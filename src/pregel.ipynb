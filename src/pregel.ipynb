{
 "cells": [
  {
   "cell_type": "code",
   "execution_count": null,
   "id": "16cc59a4-53f2-43c7-9b66-f3963d5fb5c4",
   "metadata": {},
   "outputs": [],
   "source": [
    "import os\n",
    "os.environ['PYSPARK_SUBMIT_ARGS'] = '--packages graphframes:graphframes:0.8.2-spark3.2-s_2.12 pyspark-shell'"
   ]
  },
  {
   "cell_type": "code",
   "execution_count": null,
   "id": "e22ce32b-637c-4f4b-8d89-94260917ec69",
   "metadata": {},
   "outputs": [],
   "source": [
    "from pyspark.sql import SparkSession\n",
    "from pyspark.sql.functions import col\n",
    "from pyspark.sql import functions as F\n",
    "from pyspark.sql.dataframe import DataFrame, Column\n",
    "\n",
    "from helper import *"
   ]
  },
  {
   "cell_type": "markdown",
   "id": "8b43d3b4-f610-44ce-ac8c-1bf73f2d7705",
   "metadata": {},
   "source": [
    "# Spark Configuration"
   ]
  },
  {
   "cell_type": "code",
   "execution_count": null,
   "id": "ecfb2bb9-9fc1-43b2-bdbf-e5292dcd4dfe",
   "metadata": {},
   "outputs": [],
   "source": [
    "spark = (\n",
    "    SparkSession\n",
    "        .builder\n",
    "        .appName(\"graphs\")\n",
    "        .master(\"local[4]\")\n",
    "        .config(\"spark.sql.warehouse.dir\", \"/tmp/warehouse\")\n",
    "        .getOrCreate()\n",
    ")\n",
    "sc = spark.sparkContext\n",
    "sc.setCheckpointDir(\"/tmp/plan/checkpoint\")"
   ]
  },
  {
   "cell_type": "code",
   "execution_count": null,
   "id": "58800ee1-1df9-4889-b0ee-25f92ec8640d",
   "metadata": {},
   "outputs": [],
   "source": [
    "def sparkify(graph: Graph) -> Tuple[DataFrame, DataFrame]:\n",
    "    edges_df = (\n",
    "        spark\n",
    "            .createDataFrame(graph.edges)\n",
    "            .toDF(\"src\", \"dst\", \"weight\")\n",
    "    )\n",
    "    vertices_df = (\n",
    "        spark\n",
    "            .createDataFrame(graph.vertices)\n",
    "            .toDF(\"id\")\n",
    "    )\n",
    "    return edges_df, vertices_df"
   ]
  },
  {
   "cell_type": "markdown",
   "id": "612eb9e4-16c7-461e-b3c2-d1774840045e",
   "metadata": {},
   "source": [
    "# Connected Components"
   ]
  },
  {
   "cell_type": "code",
   "execution_count": null,
   "id": "716d4959-22a8-40dd-b1dc-6734865323e1",
   "metadata": {},
   "outputs": [],
   "source": [
    "def bidirectional(edges: DataFrame) -> DataFrame:\n",
    "    return edges.union(edges.select(\"dst\", \"src\", \"weight\"))"
   ]
  },
  {
   "cell_type": "markdown",
   "id": "7ce3b2ae-8ef4-4177-bc4a-9e1ca2e1239e",
   "metadata": {},
   "source": [
    "## Pregel"
   ]
  },
  {
   "cell_type": "markdown",
   "id": "421c667c-e2d3-4dea-9d75-4d82b4de7a00",
   "metadata": {},
   "source": [
    "### Implementation"
   ]
  },
  {
   "cell_type": "code",
   "execution_count": null,
   "id": "55201b8a-836f-4db7-86e4-c082dd329ac8",
   "metadata": {},
   "outputs": [],
   "source": [
    "def pregel_cc(edges: DataFrame, values: DataFrame, steps: int) -> DataFrame:\n",
    "    result_df = values\n",
    "\n",
    "    for i in range(1, steps + 1):\n",
    "        result_df = (\n",
    "            edges.join(result_df, col(\"src\") == col(\"id\"))\n",
    "                .select(col(\"dst\").alias(\"id\"), col(\"value\").alias(\"message\"))\n",
    "                .groupBy(col(\"id\")).agg(F.min(\"message\").alias(\"message\"))\n",
    "                .join(result_df, \"id\", \"right\")\n",
    "                .select(\"id\", F.least(\"message\", \"value\").alias(\"value\"))\n",
    "        )\n",
    "        if i % 5 == 0:\n",
    "            result_df = result_df.checkpoint()\n",
    "\n",
    "    return result_df"
   ]
  },
  {
   "cell_type": "markdown",
   "id": "56ba59de-c8bd-4472-aa29-ab056ea6413b",
   "metadata": {},
   "source": [
    "### Testing"
   ]
  },
  {
   "cell_type": "markdown",
   "id": "69b340ef-354a-4388-b374-a3a64ee0719e",
   "metadata": {},
   "source": [
    "#### Small Graph"
   ]
  },
  {
   "cell_type": "markdown",
   "id": "b8616198-27ac-43e9-b022-d6a16ae35373",
   "metadata": {},
   "source": [
    "![](https://habrastorage.org/webt/yz/gg/jh/yzggjhrflf_8ey-htgoixqbhvng.png)"
   ]
  },
  {
   "cell_type": "code",
   "execution_count": null,
   "id": "45126985-3b72-4878-8718-296e0cf71289",
   "metadata": {},
   "outputs": [],
   "source": [
    "edges_df, vertices_df = sparkify(small_graph())"
   ]
  },
  {
   "cell_type": "code",
   "execution_count": null,
   "id": "292ff292-0da1-47fd-9263-0f8e3a4a3b5c",
   "metadata": {},
   "outputs": [],
   "source": [
    "edges_df.printSchema()"
   ]
  },
  {
   "cell_type": "code",
   "execution_count": null,
   "id": "5ad14501-972a-42a9-934b-3fca2ad1ded3",
   "metadata": {},
   "outputs": [],
   "source": [
    "vertices_df.printSchema()"
   ]
  },
  {
   "cell_type": "markdown",
   "id": "73ca41e3-3843-4f83-894c-d8e22429fa82",
   "metadata": {},
   "source": [
    "A directed Graph will not propagate all the messages properly, because the messages won't go back to the src vertices, which prevent the connected components algorithm from the correct evaluation, so each edges should be accompanied with a revese edge:"
   ]
  },
  {
   "cell_type": "code",
   "execution_count": null,
   "id": "a0d81011-1790-4794-90cc-f03acf046269",
   "metadata": {},
   "outputs": [],
   "source": [
    "edges_df = bidirectional(edges_df)"
   ]
  },
  {
   "cell_type": "code",
   "execution_count": null,
   "id": "3542d784-45df-4ac0-ae9d-4b14db998bb0",
   "metadata": {},
   "outputs": [],
   "source": [
    "pregel_cc_df = vertices_df.withColumn(\"value\", col(\"id\"))\n",
    "pregel_cc_df = pregel_cc(edges_df, pregel_cc_df, 5)"
   ]
  },
  {
   "cell_type": "code",
   "execution_count": null,
   "id": "bc0ec4f7-6c83-4839-ba67-50865505adf2",
   "metadata": {},
   "outputs": [],
   "source": [
    "pregel_cc_df.show()"
   ]
  },
  {
   "cell_type": "markdown",
   "id": "1819a81a-1e10-4e31-956f-a88a9231a4d3",
   "metadata": {},
   "source": [
    "#### Large Graph"
   ]
  },
  {
   "cell_type": "markdown",
   "id": "278c8419-803c-42fd-b5ca-1cf2bd2d2f30",
   "metadata": {},
   "source": [
    "The large graph is just a bunch of disjoint subgraphs that are essentially linked lists with occasional edges between two vertices in the list\n",
    "\n",
    "![](https://habrastorage.org/webt/fh/uq/as/fhuqasf_isduq9_mupsga5i4k34.png)"
   ]
  },
  {
   "cell_type": "code",
   "execution_count": null,
   "id": "d8b5ed68-f9a2-4818-a80f-5ecc524bccfa",
   "metadata": {},
   "outputs": [],
   "source": [
    "edges_df, vertices_df = sparkify(graph())"
   ]
  },
  {
   "cell_type": "code",
   "execution_count": null,
   "id": "8de4d0fc-0476-4aaa-8645-2fb8d51e75e8",
   "metadata": {},
   "outputs": [],
   "source": [
    "edges_df.printSchema()"
   ]
  },
  {
   "cell_type": "code",
   "execution_count": null,
   "id": "bf814fdc-a55d-48ea-b742-305a6bc895e1",
   "metadata": {},
   "outputs": [],
   "source": [
    "vertices_df.printSchema()"
   ]
  },
  {
   "cell_type": "code",
   "execution_count": null,
   "id": "f3a65d35-3440-4a0f-a9f9-a6fa068fae7d",
   "metadata": {},
   "outputs": [],
   "source": [
    "edges_df = bidirectional(edges_df)"
   ]
  },
  {
   "cell_type": "code",
   "execution_count": null,
   "id": "a1949a4b-8d06-47a7-9cc9-ae215e47124b",
   "metadata": {},
   "outputs": [],
   "source": [
    "pregel_cc_df = vertices_df.withColumn(\"value\", col(\"id\"))"
   ]
  },
  {
   "cell_type": "code",
   "execution_count": null,
   "id": "a84abf0e-b527-48cd-92b3-0dd827f6bb45",
   "metadata": {},
   "outputs": [],
   "source": [
    "pregel_cc_df = timer(lambda: pregel_cc(edges_df, pregel_cc_df, 15))"
   ]
  },
  {
   "cell_type": "markdown",
   "id": "d8cfb16c-33bf-422e-a415-0fbe6f06a922",
   "metadata": {},
   "source": [
    "The `cc_df` DataFrame is large, so only the total number of connected components is displayed"
   ]
  },
  {
   "cell_type": "code",
   "execution_count": null,
   "id": "ce311be8-790d-4d9c-83a1-cb0be0ee76ca",
   "metadata": {},
   "outputs": [],
   "source": [
    "pregel_cc_df.groupBy(\"value\").count().count()"
   ]
  },
  {
   "cell_type": "markdown",
   "id": "a716f07c-731c-4b6f-b12d-632baa4d796c",
   "metadata": {},
   "source": [
    "# Single Source Shortest Path"
   ]
  },
  {
   "cell_type": "code",
   "execution_count": null,
   "id": "1b03c61a-e08b-4c5a-a392-90ca490015ba",
   "metadata": {},
   "outputs": [],
   "source": [
    "def get_min_dist_init_df(values: DataFrame, start: int = 1) -> DataFrame:\n",
    "    return values.withColumn(\"dist\",\n",
    "        F.when(\n",
    "            col(\"id\") == F.lit(start),\n",
    "            F.lit(0)\n",
    "        )\n",
    "        .otherwise(F.lit(sys.maxsize // 2))\n",
    "    )"
   ]
  },
  {
   "cell_type": "markdown",
   "id": "ee5aa075-e037-4a16-b242-38289649784c",
   "metadata": {},
   "source": [
    "## Pregel"
   ]
  },
  {
   "cell_type": "markdown",
   "id": "94915b87-1f68-4858-9aeb-4f5104f82209",
   "metadata": {},
   "source": [
    "### Implementation"
   ]
  },
  {
   "cell_type": "code",
   "execution_count": null,
   "id": "893bfa22-4320-44d4-826a-dcaaad6789d5",
   "metadata": {},
   "outputs": [],
   "source": [
    "def pregel_min_dist(edges: DataFrame, values: DataFrame, steps: int) -> DataFrame:\n",
    "    result_df = values\n",
    "\n",
    "    for i in range(1, steps + 1):\n",
    "        result_df = (\n",
    "            edges.join(result_df, col(\"src\") == col(\"id\"))\n",
    "                .select(col(\"dst\").alias(\"id\"), F.expr(\"dist + weight\").alias(\"message\"))\n",
    "                .groupBy(col(\"id\")).agg(F.min(\"message\").alias(\"message\"))\n",
    "                .join(result_df, \"id\", \"right\")\n",
    "                .select(\"id\", F.least(\"message\", \"dist\").alias(\"dist\"))\n",
    "        )\n",
    "        if i % 5 == 0:\n",
    "            result_df = result_df.checkpoint()\n",
    "\n",
    "    return result_df"
   ]
  },
  {
   "cell_type": "markdown",
   "id": "86cd2df4-6a19-4e7e-b420-374924fcb00f",
   "metadata": {},
   "source": [
    "### Testing"
   ]
  },
  {
   "cell_type": "markdown",
   "id": "88c77255-1c7b-42c6-a725-2594ffa8197e",
   "metadata": {},
   "source": [
    "#### Small Graph"
   ]
  },
  {
   "cell_type": "markdown",
   "id": "1be334d9-92a1-4b44-a93f-c6420e50df4d",
   "metadata": {},
   "source": [
    "![](https://habrastorage.org/webt/yz/gg/jh/yzggjhrflf_8ey-htgoixqbhvng.png)"
   ]
  },
  {
   "cell_type": "code",
   "execution_count": null,
   "id": "c8a06c72-a627-4624-8b1f-4cae7d348686",
   "metadata": {},
   "outputs": [],
   "source": [
    "edges_df, vertices_df = sparkify(small_graph())"
   ]
  },
  {
   "cell_type": "code",
   "execution_count": null,
   "id": "cda713e8-f834-4dc1-b3bb-5ad89ac96059",
   "metadata": {},
   "outputs": [],
   "source": [
    "vertices_df.printSchema()"
   ]
  },
  {
   "cell_type": "code",
   "execution_count": null,
   "id": "aaef37de-e8fa-480a-9f89-a82ef3502eee",
   "metadata": {},
   "outputs": [],
   "source": [
    "edges_df.printSchema()"
   ]
  },
  {
   "cell_type": "code",
   "execution_count": null,
   "id": "dfff5e32-8c24-4324-816d-cd3a7a166ad7",
   "metadata": {},
   "outputs": [],
   "source": [
    "min_dist_df = get_min_dist_init_df(vertices_df, start=1)\n",
    "min_dist_df = pregel_min_dist(edges_df, min_dist_df, 5)"
   ]
  },
  {
   "cell_type": "code",
   "execution_count": null,
   "id": "79e83f4b-5b8d-4f74-9552-02e2ca01c4ee",
   "metadata": {},
   "outputs": [],
   "source": [
    "min_dist_df.show()"
   ]
  },
  {
   "cell_type": "markdown",
   "id": "05c015be-3b8c-4aac-94c2-8a8f74be6fd4",
   "metadata": {},
   "source": [
    "#### Large Graph"
   ]
  },
  {
   "cell_type": "markdown",
   "id": "0731d222-e2a5-4adc-a4da-eb7ce858ee40",
   "metadata": {},
   "source": [
    "The large graph is just a bunch of disjoint subgraphs that are essentially linked lists with occasional edges between two vertices in the list\n",
    "\n",
    "![](https://habrastorage.org/webt/fh/uq/as/fhuqasf_isduq9_mupsga5i4k34.png)"
   ]
  },
  {
   "cell_type": "code",
   "execution_count": null,
   "id": "63c57bec-323d-4116-aaac-6bd4db11cedd",
   "metadata": {},
   "outputs": [],
   "source": [
    "disjoint_set_vertices=500\n",
    "edges_df, vertices_df = sparkify(graph(disjoint_set_vertices))"
   ]
  },
  {
   "cell_type": "code",
   "execution_count": null,
   "id": "7804912c-d5a1-4541-9197-7f0525c8619c",
   "metadata": {},
   "outputs": [],
   "source": [
    "vertices_df.printSchema()"
   ]
  },
  {
   "cell_type": "code",
   "execution_count": null,
   "id": "5b6b60fe-3d77-4e86-a1b2-d8526c8630c0",
   "metadata": {},
   "outputs": [],
   "source": [
    "edges_df.printSchema()"
   ]
  },
  {
   "cell_type": "code",
   "execution_count": null,
   "id": "241ee3c5-b0d1-4016-8628-39ec8c3480aa",
   "metadata": {},
   "outputs": [],
   "source": [
    "min_dist_df = get_min_dist_init_df(vertices_df, start=1)\n",
    "min_dist_df = timer(lambda: pregel_min_dist(edges_df, min_dist_df, 12))"
   ]
  },
  {
   "cell_type": "markdown",
   "id": "8161a632-9dbe-45c9-8027-2d6720f4f0b2",
   "metadata": {},
   "source": [
    "All the vertices from the same disjoint set as the vertex `1` should have a distance less that `INF (sys.maxsize)`"
   ]
  },
  {
   "cell_type": "code",
   "execution_count": null,
   "id": "5f6a3485-1c8e-407e-9389-00c658813358",
   "metadata": {},
   "outputs": [],
   "source": [
    "df = min_dist_df.where(col(\"id\") < disjoint_set_vertices).where(col(\"dist\") < sys.maxsize)\n",
    "timer(lambda: df.count())"
   ]
  },
  {
   "cell_type": "markdown",
   "id": "8592952c-b34e-4db4-9095-5f386b558357",
   "metadata": {},
   "source": [
    "All the vertices from the other disjoint sets comparing to the vertex `1` should have the minimum distance exactly `INF (sys.maxsize)`"
   ]
  },
  {
   "cell_type": "code",
   "execution_count": null,
   "id": "a2e547d2-3985-49bb-9a28-0d009c79f445",
   "metadata": {},
   "outputs": [],
   "source": [
    "df = min_dist_df.where(col(\"id\") > disjoint_set_vertices).groupby(\"dist\").count()\n",
    "timer(lambda: df.show())"
   ]
  },
  {
   "cell_type": "markdown",
   "id": "5c3f3202-bb4a-4055-8b11-a001d7399a7b",
   "metadata": {},
   "source": [
    "# Topological Sort"
   ]
  },
  {
   "cell_type": "markdown",
   "id": "8b452cc2-87a2-4c89-a716-f46f12d53412",
   "metadata": {},
   "source": [
    "## Pregel"
   ]
  },
  {
   "cell_type": "markdown",
   "id": "bd10a24d-dba2-4075-8ae0-f2fc1ef2f44f",
   "metadata": {},
   "source": [
    "### Implementation"
   ]
  },
  {
   "cell_type": "code",
   "execution_count": null,
   "id": "e4a1d822-5b8f-48ab-8b0f-e26f2dad1b94",
   "metadata": {},
   "outputs": [],
   "source": [
    "def pregel_topological_sort(edges: DataFrame, values: DataFrame, steps: int) -> DataFrame:\n",
    "    result_df = values\n",
    "\n",
    "    for i in range(steps):\n",
    "        result_df = (\n",
    "            edges.join(result_df, col(\"src\") == col(\"id\"))\n",
    "                .select(col(\"dst\").alias(\"id\"), col(\"ord\").alias(\"message\"))\n",
    "                .groupBy(col(\"id\")).agg(F.max(\"message\").alias(\"message\"))\n",
    "                .join(result_df, \"id\", \"right\")\n",
    "                .select(\"id\", F.greatest(F.expr(\"message + 1\"), \"ord\").alias(\"ord\"))\n",
    "        )\n",
    "        if i % 5 == 0:\n",
    "            result_df = result_df.checkpoint()\n",
    "\n",
    "    return result_df"
   ]
  },
  {
   "cell_type": "markdown",
   "id": "352688a4-993b-4336-9389-ff9f4093bfca",
   "metadata": {},
   "source": [
    "### Testing"
   ]
  },
  {
   "cell_type": "markdown",
   "id": "35a07fa4-0182-4e45-b489-35d91dcebe02",
   "metadata": {},
   "source": [
    "#### Small Graph"
   ]
  },
  {
   "cell_type": "markdown",
   "id": "bc8cdfda-1532-4031-b3ab-c544e385c40e",
   "metadata": {},
   "source": [
    "![](https://habrastorage.org/webt/yz/gg/jh/yzggjhrflf_8ey-htgoixqbhvng.png)"
   ]
  },
  {
   "cell_type": "code",
   "execution_count": null,
   "id": "28acae32-04c8-4463-8692-759668a205eb",
   "metadata": {},
   "outputs": [],
   "source": [
    "edges_df, vertices_df = sparkify(small_graph())"
   ]
  },
  {
   "cell_type": "code",
   "execution_count": null,
   "id": "05a61145-5de8-4c08-9f44-6176cabbb752",
   "metadata": {},
   "outputs": [],
   "source": [
    "vertices_df.printSchema()"
   ]
  },
  {
   "cell_type": "code",
   "execution_count": null,
   "id": "3e1b5c7a-51b3-466d-86d2-0f5caa2b8288",
   "metadata": {},
   "outputs": [],
   "source": [
    "edges_df.printSchema()"
   ]
  },
  {
   "cell_type": "code",
   "execution_count": null,
   "id": "5ecc37fe-08f1-40e2-a2e6-b98205f3c1f3",
   "metadata": {},
   "outputs": [],
   "source": [
    "edges_df = edges_df.where(\"src != dst\")"
   ]
  },
  {
   "cell_type": "code",
   "execution_count": null,
   "id": "a1cd7ada-9055-43a5-9412-1af972b0b1fe",
   "metadata": {},
   "outputs": [],
   "source": [
    "sorted_df = vertices_df.withColumn(\"ord\", F.lit(1))\n",
    "sorted_df = pregel_topological_sort(edges_df, sorted_df, 5)"
   ]
  },
  {
   "cell_type": "code",
   "execution_count": null,
   "id": "c58b6b56-e308-4278-9749-5f1fa2467e20",
   "metadata": {},
   "outputs": [],
   "source": [
    "sorted_df.orderBy(\"ord\").show()"
   ]
  },
  {
   "cell_type": "markdown",
   "id": "4d016ec1-0d3b-419c-93c7-2d14a8d11375",
   "metadata": {},
   "source": [
    "#### Large Graph"
   ]
  },
  {
   "cell_type": "markdown",
   "id": "8a527b0b-5949-4379-922b-e4807322c7c6",
   "metadata": {},
   "source": [
    "The large graph is just a bunch of disjoint subgraphs that are essentially linked lists with occasional edges between two vertices in the list\n",
    "\n",
    "![](https://habrastorage.org/webt/fh/uq/as/fhuqasf_isduq9_mupsga5i4k34.png)"
   ]
  },
  {
   "cell_type": "code",
   "execution_count": null,
   "id": "94b595d4-a3eb-4332-978c-c41ee90c3be4",
   "metadata": {},
   "outputs": [],
   "source": [
    "disjoint_set_vertices=50\n",
    "edges_df, vertices_df = sparkify(to_dag(graph(disjoint_set_vertices=disjoint_set_vertices)))"
   ]
  },
  {
   "cell_type": "code",
   "execution_count": null,
   "id": "ae503b03-8dc9-4fcb-82b9-0b53aa2e2231",
   "metadata": {},
   "outputs": [],
   "source": [
    "vertices_df.printSchema()"
   ]
  },
  {
   "cell_type": "code",
   "execution_count": null,
   "id": "24285302-05b7-442b-9857-7fbfd01f04fa",
   "metadata": {},
   "outputs": [],
   "source": [
    "edges_df.printSchema()"
   ]
  },
  {
   "cell_type": "code",
   "execution_count": null,
   "id": "f6d6175f-4c5a-4975-bbbd-f6dacef1aaf1",
   "metadata": {},
   "outputs": [],
   "source": [
    "sorted_df = vertices_df.withColumn(\"ord\", F.lit(1))\n",
    "sorted_df = timer(lambda: pregel_topological_sort(edges_df, sorted_df, disjoint_set_vertices))"
   ]
  },
  {
   "cell_type": "markdown",
   "id": "f58024f1-6be1-417e-91b5-9f715fd82281",
   "metadata": {},
   "source": [
    "The total number of disjoint sets is equal to 1000 (defautl) and the total number of vertices in each disjoint set is equal to `disjoint_set_vertices` (50), so there should be:\n",
    "- exactly `1000` vertices for each `ord` number,\n",
    "- exactly `disjoint_set_vertices` (`50`) unique `ord` numbers."
   ]
  },
  {
   "cell_type": "code",
   "execution_count": null,
   "id": "cb5bbcaf-6f6b-4748-8029-e50ed4ba1f9a",
   "metadata": {},
   "outputs": [],
   "source": [
    "df = sorted_df.groupBy(\"ord\").count().orderBy(col(\"count\").desc(), col(\"ord\"))\n",
    "timer(lambda: df.show(disjoint_set_vertices))"
   ]
  },
  {
   "cell_type": "markdown",
   "id": "ab352aac-5afd-4bcd-ac32-d3050bb9162e",
   "metadata": {},
   "source": [
    "# General Algorithm"
   ]
  },
  {
   "cell_type": "markdown",
   "id": "1ce0d0c4-b87b-4f9b-b682-29534e0f9b64",
   "metadata": {},
   "source": [
    "## Pregel"
   ]
  },
  {
   "cell_type": "code",
   "execution_count": null,
   "id": "9618f06c-d992-47c6-bf40-e967785a9a67",
   "metadata": {},
   "outputs": [],
   "source": [
    "def pregel_superstep(\n",
    "    edges: DataFrame,\n",
    "    values: DataFrame,\n",
    "    message: Column,\n",
    "    combiner: Callable[[Column], Column],\n",
    "    computer: Column,\n",
    "    **columns: Column\n",
    ") -> DataFrame:\n",
    "    message_box_df = (\n",
    "        edges.where(col(\"src\") != col(\"dst\"))\n",
    "            .join(values, col(\"src\") == col(\"id\"))\n",
    "            .select(col(\"dst\").alias(\"id\"), message.alias(\"message\"))\n",
    "    )\n",
    "    accumulator_df = (\n",
    "        message_box_df\n",
    "            .groupby(col(\"id\"))\n",
    "            .agg(combiner(col(\"message\")).alias(\"message\"))\n",
    "    )\n",
    "    return (\n",
    "        accumulator_df\n",
    "            .join(values, \"id\", \"right\")\n",
    "            .select(\"id\", computer.alias(\"value\"), *columns.values())\n",
    "    )"
   ]
  },
  {
   "cell_type": "code",
   "execution_count": null,
   "id": "6402ada6-ce4d-487c-bd27-e197f282e86f",
   "metadata": {},
   "outputs": [],
   "source": [
    "edges_df, vertices_df = sparkify(small_graph())"
   ]
  },
  {
   "cell_type": "markdown",
   "id": "0d20afda-918b-48f8-aeb2-ec08b6e1b533",
   "metadata": {},
   "source": [
    "![](https://habrastorage.org/webt/yz/gg/jh/yzggjhrflf_8ey-htgoixqbhvng.png)"
   ]
  },
  {
   "cell_type": "markdown",
   "id": "9a96b820-5ede-48e7-93e6-8f40910c08bb",
   "metadata": {},
   "source": [
    "### Connected Components"
   ]
  },
  {
   "cell_type": "code",
   "execution_count": null,
   "id": "a5770c8b-9514-46be-9bd2-58143467a9a7",
   "metadata": {},
   "outputs": [],
   "source": [
    "cc_df = vertices_df.withColumn(\"value\", col(\"id\"))\n",
    "\n",
    "for _ in range(5):\n",
    "    cc_df = pregel_superstep(\n",
    "        edges=bidirectional(edges_df),\n",
    "        values=cc_df,\n",
    "        message=col(\"value\"),\n",
    "        combiner=F.min,\n",
    "        computer=F.least(col(\"value\"), col(\"message\"))\n",
    "    )\n",
    "\n",
    "cc_df.show()"
   ]
  },
  {
   "cell_type": "markdown",
   "id": "3a859a54-ae43-429f-ac87-334023de532c",
   "metadata": {},
   "source": [
    "### Single Point Shortest Path"
   ]
  },
  {
   "cell_type": "code",
   "execution_count": null,
   "id": "533066b9-278a-459c-9221-99a62783e8ec",
   "metadata": {},
   "outputs": [],
   "source": [
    "pregel_min_dist_df = get_min_dist_init_df(vertices_df, start=1).withColumnRenamed(\"dist\", \"value\")\n",
    "\n",
    "for _ in range(5):\n",
    "    pregel_min_dist_df = pregel_superstep(\n",
    "        edges=edges_df,\n",
    "        values=pregel_min_dist_df,\n",
    "        message=F.expr(\"value + weight\"),\n",
    "        combiner=F.min,\n",
    "        computer=F.least(\"message\", \"value\")\n",
    "    )\n",
    "\n",
    "pregel_min_dist_df.show()"
   ]
  },
  {
   "cell_type": "markdown",
   "id": "97fa0de0-5441-414c-84c8-a71a008f0d57",
   "metadata": {},
   "source": [
    "### Topological Sort"
   ]
  },
  {
   "cell_type": "code",
   "execution_count": null,
   "id": "18aa7ab5-bcce-41de-ae5b-c7485afda379",
   "metadata": {},
   "outputs": [],
   "source": [
    "pregel_sort_df = vertices_df.withColumn(\"value\", F.lit(1))\n",
    "\n",
    "for _ in range(5):\n",
    "    pregel_sort_df = pregel_superstep(\n",
    "        edges=edges_df.where(\"src < dst\"),\n",
    "        values=pregel_sort_df,\n",
    "        message=col(\"value\"),\n",
    "        combiner=F.max,\n",
    "        computer=F.greatest(F.expr(\"message + 1\"), \"value\")\n",
    "    )\n",
    "\n",
    "pregel_sort_df.orderBy(\"value\").show()"
   ]
  },
  {
   "cell_type": "markdown",
   "id": "426daa41-d02c-4fd0-900c-670d61bf4f77",
   "metadata": {},
   "source": [
    "### PageRank"
   ]
  },
  {
   "cell_type": "markdown",
   "id": "04cb0cfd-85e4-4aa5-b3b3-75ee9257b1c3",
   "metadata": {},
   "source": [
    "Calculate the out degree of each vertex:"
   ]
  },
  {
   "cell_type": "code",
   "execution_count": null,
   "id": "01142ffc-c5bb-408f-b646-e71995bb030a",
   "metadata": {},
   "outputs": [],
   "source": [
    "out_deg = (\n",
    "    edges_df\n",
    "        .groupBy(\"src\")\n",
    "        .agg(F.count(\"src\").alias(\"out_deg\"))\n",
    "        .withColumnRenamed(\"src\", \"id\")\n",
    ")"
   ]
  },
  {
   "cell_type": "markdown",
   "id": "f96d659d-68b8-4262-bd1b-a2ba88663d7c",
   "metadata": {},
   "source": [
    "Enrich the `vertices_df` DataFrame with the out degree values. The PageRank algorighm uses the out degree in the denominator, therefore it can't be 0, so I set it to `1` when it's `0` or `null`:"
   ]
  },
  {
   "cell_type": "code",
   "execution_count": null,
   "id": "2d768b0e-bcbd-445f-a472-3c5aaee46800",
   "metadata": {},
   "outputs": [],
   "source": [
    "deg_vert_df = (\n",
    "    vertices_df\n",
    "        .join(out_deg, \"id\", \"left\")\n",
    "        .select(\n",
    "            \"id\",\n",
    "            F.coalesce(\"out_deg\", F.lit(1)).alias(\"out_deg\")\n",
    "        )\n",
    ")"
   ]
  },
  {
   "cell_type": "markdown",
   "id": "74ddbae1-71c9-4fee-97b9-6186fb828792",
   "metadata": {},
   "source": [
    "Initially all the vertices are equal, so the rank value of all of them is set to 1:"
   ]
  },
  {
   "cell_type": "code",
   "execution_count": null,
   "id": "0235c078-2653-448c-8c05-6908bf81394d",
   "metadata": {},
   "outputs": [],
   "source": [
    "page_rank_result_df = deg_vert_df.withColumn(\"value\", F.lit(1))"
   ]
  },
  {
   "cell_type": "code",
   "execution_count": null,
   "id": "39367666-fc2d-46a1-9ce7-bfca0cb0c96c",
   "metadata": {},
   "outputs": [],
   "source": [
    "for i in range(10):\n",
    "    page_rank_result_df = pregel_superstep(\n",
    "        edges=edges_df,\n",
    "        values=page_rank_result_df,\n",
    "        message=col(\"value\"),\n",
    "        combiner=F.sum,\n",
    "        computer=F.expr(\"(0.15 + 0.85 * nvl(message, value)) / out_deg\"),\n",
    "        out_deg=col(\"out_deg\")\n",
    "    )\n",
    "    if i % 5 == 0:\n",
    "        page_rank_result_df = page_rank_result_df.checkpoint()\n",
    "\n",
    "page_rank_result_df.orderBy(\"id\").show()"
   ]
  },
  {
   "cell_type": "markdown",
   "id": "ed683bff-6b0c-42bd-bff6-2e5996a23cc5",
   "metadata": {},
   "source": [
    "The values seem correct:\n",
    "\n",
    "- all the vertices refer to the vertex `5` directly or indirectly, so it has the highest rank;\n",
    "- no vertices refer to the vertex `1`, so it has the lowest rank;\n",
    "- the vertex 6 is in it's own connected component and it doesn't participate in the rank computation process, that is why its rank remained unchanged."
   ]
  },
  {
   "cell_type": "markdown",
   "id": "7392aee5-9351-4db5-8e5f-65f73e13ac4e",
   "metadata": {},
   "source": [
    "# GraphFrames"
   ]
  },
  {
   "cell_type": "markdown",
   "id": "50adb73f-e602-4d3f-b852-64a9b833b9f9",
   "metadata": {},
   "source": [
    "**NOTICE**: it might not work in Binder. Simply skip to the \"**Distrubuted Graph**\" chapter below"
   ]
  },
  {
   "cell_type": "code",
   "execution_count": null,
   "id": "67f89983-2957-4cfe-9ded-ad747d301f3a",
   "metadata": {},
   "outputs": [],
   "source": [
    "from graphframes import GraphFrame\n",
    "from graphframes.lib import Pregel"
   ]
  },
  {
   "cell_type": "code",
   "execution_count": null,
   "id": "4a50b7d1-cd5f-44ab-8145-34e1668a9f9b",
   "metadata": {},
   "outputs": [],
   "source": [
    "edges_df, vertices_df = sparkify(small_graph())"
   ]
  },
  {
   "cell_type": "code",
   "execution_count": null,
   "id": "a4259c48-087a-490f-b71b-705d74a7b138",
   "metadata": {},
   "outputs": [],
   "source": [
    "gf_graph = GraphFrame(vertices_df, edges_df)"
   ]
  },
  {
   "cell_type": "code",
   "execution_count": null,
   "id": "8385fc79-82e7-4198-8ea3-aa3be4e20d4c",
   "metadata": {},
   "outputs": [],
   "source": [
    "with_out_deg_df = (\n",
    "    gf_graph.outDegrees\n",
    "        .join(vertices_df, \"id\", \"right\")\n",
    "        .select(\"id\", F.expr(\"nvl(outDegree, 1.0)\").alias(\"outDegree\"))\n",
    ")"
   ]
  },
  {
   "cell_type": "code",
   "execution_count": null,
   "id": "82c9d582-f402-4d05-be4a-40a0f55f7676",
   "metadata": {},
   "outputs": [],
   "source": [
    "gf_graph = GraphFrame(with_out_deg_df, gf_graph.edges)"
   ]
  },
  {
   "cell_type": "code",
   "execution_count": null,
   "id": "487fdd7a-77d3-41d2-89cb-225fb1fd8e96",
   "metadata": {},
   "outputs": [],
   "source": [
    "initialMsg = F.lit(1.0)\n",
    "# afterMsgAgg = (0.15 + 0.85 * nvl(message, value)) / out_deg\n",
    "afterMsgAgg = (F.lit(0.15) + F.lit(0.85) * F.coalesce(Pregel.msg(), col(\"rank\"))) / col(\"outDegree\")\n",
    "\n",
    "ranks = (\n",
    "    gf_graph.pregel\n",
    "        .setMaxIter(10)\n",
    "        # withVertexColumn creates a new column that accumulates the result\n",
    "        .withVertexColumn(\n",
    "            \"rank\", # the name of the column to accumulate the rank value\n",
    "            initialMsg, # initial value of the column\n",
    "            afterMsgAgg # how to update the column value when an aggregated message is ready\n",
    "        )\n",
    "        # sendMsgToDst defines what the message is\n",
    "        .sendMsgToDst(Pregel.src(\"rank\"))\n",
    "        # aggMsgs defines the aggregation operation\n",
    "        .aggMsgs(F.sum(Pregel.msg()))\n",
    ")"
   ]
  },
  {
   "cell_type": "code",
   "execution_count": null,
   "id": "9a472d5c-cb4d-4339-b2c4-80da3d820f6f",
   "metadata": {},
   "outputs": [],
   "source": [
    "result = ranks.run()"
   ]
  },
  {
   "cell_type": "code",
   "execution_count": null,
   "id": "b71fe8d1-49e2-4593-a60c-29c6ed810813",
   "metadata": {},
   "outputs": [],
   "source": [
    "result.orderBy(\"id\").show()"
   ]
  },
  {
   "cell_type": "markdown",
   "id": "3a1b003a-c262-42ae-88fa-f6755c3db6d2",
   "metadata": {},
   "source": [
    "# Distributed Graph"
   ]
  },
  {
   "cell_type": "code",
   "execution_count": null,
   "id": "c5c878ee-744c-4ce4-93a7-02e922ca1775",
   "metadata": {},
   "outputs": [],
   "source": [
    "from helper import graph"
   ]
  },
  {
   "cell_type": "markdown",
   "id": "f9365ae2-6a87-4c3d-8b13-aec8dbfff4e9",
   "metadata": {},
   "source": [
    "Apache Spark naturally partitions the graph by vertices (`vertex-cut`): one vertex is present in multiple partitions, which reduces the problems related to the power-law graphs."
   ]
  },
  {
   "cell_type": "code",
   "execution_count": null,
   "id": "dfb69a67-38a3-412f-8b1f-e2ef75d25fdf",
   "metadata": {},
   "outputs": [],
   "source": [
    "edges_df, _ = sparkify(graph())"
   ]
  },
  {
   "cell_type": "markdown",
   "id": "97eee4a1-4d48-40e6-9c26-9d2e82929817",
   "metadata": {},
   "source": [
    "The `F.spark_partition_id()` function calculates the partition number the current row resides in, so let's enrich the `edges_df` DataFrame with this value:"
   ]
  },
  {
   "cell_type": "code",
   "execution_count": null,
   "id": "13c295bf-51e0-4b50-a4b4-3d1f501cc4f8",
   "metadata": {},
   "outputs": [],
   "source": [
    "edges_df_with_part = edges_df.withColumn(\"partition_id\", F.spark_partition_id())"
   ]
  },
  {
   "cell_type": "markdown",
   "id": "8e6d0a60-8eaa-4192-81fc-09bd81d8f58c",
   "metadata": {},
   "source": [
    "The simple query below demonstrates that there are vertices that reside in different partitions:"
   ]
  },
  {
   "cell_type": "code",
   "execution_count": null,
   "id": "994dc2a1-f506-4e01-94e5-45a7f672e177",
   "metadata": {},
   "outputs": [],
   "source": [
    "\"\"\"\n",
    "select *\n",
    "  from t1\n",
    "     , t1 t2\n",
    " where t1.part_id != t2.part_id\n",
    "   and t1.src == t2.src\n",
    "\"\"\"\n",
    "df = (\n",
    "    edges_df_with_part.alias(\"t1\")\n",
    "        .join(edges_df_with_part.alias(\"t2\"), \"src\")\n",
    "        .where(\"t1.partition_id != t2.partition_id\")\n",
    "        .select(\"src\", \"t1.partition_id\", \"t2.partition_id\")\n",
    ")\n",
    "df.show(5)"
   ]
  },
  {
   "cell_type": "code",
   "execution_count": null,
   "id": "6585835c-6ad5-4b64-bb45-b3f8d38a48dd",
   "metadata": {},
   "outputs": [],
   "source": []
  }
 ],
 "metadata": {
  "kernelspec": {
   "display_name": "Python 3 (ipykernel)",
   "language": "python",
   "name": "python3"
  },
  "language_info": {
   "codemirror_mode": {
    "name": "ipython",
    "version": 3
   },
   "file_extension": ".py",
   "mimetype": "text/x-python",
   "name": "python",
   "nbconvert_exporter": "python",
   "pygments_lexer": "ipython3",
   "version": "3.11.4"
  }
 },
 "nbformat": 4,
 "nbformat_minor": 5
}
