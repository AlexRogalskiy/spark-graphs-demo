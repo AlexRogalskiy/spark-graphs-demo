{
 "cells": [
  {
   "cell_type": "code",
   "execution_count": null,
   "id": "5b3c3ef2-bd9c-4f1f-9cc9-1f83775601e1",
   "metadata": {},
   "outputs": [],
   "source": [
    "# df.repartition(2).select(F.spark_partition_id().alias(\"pid\")).collect()"
   ]
  },
  {
   "cell_type": "markdown",
   "id": "a1ee4c49-e0f2-40fa-abc9-305b4d579416",
   "metadata": {
    "jp-MarkdownHeadingCollapsed": true
   },
   "source": [
    "# Подготовка"
   ]
  },
  {
   "cell_type": "markdown",
   "id": "8b43d3b4-f610-44ce-ac8c-1bf73f2d7705",
   "metadata": {},
   "source": [
    "## Настройка Spark"
   ]
  },
  {
   "cell_type": "code",
   "execution_count": null,
   "id": "e22ce32b-637c-4f4b-8d89-94260917ec69",
   "metadata": {},
   "outputs": [],
   "source": [
    "import sys\n",
    "\n",
    "from collections import namedtuple\n",
    "from typing import NamedTuple, Callable\n",
    "from enum import StrEnum, verify, UNIQUE\n",
    "from dataclasses import dataclass\n",
    "from random import randrange\n",
    "\n",
    "from pyspark.sql import SparkSession, Window\n",
    "from pyspark.sql.functions import col\n",
    "from pyspark.sql import functions as F\n",
    "from pyspark.sql.dataframe import DataFrame, Column"
   ]
  },
  {
   "cell_type": "code",
   "execution_count": null,
   "id": "ecfb2bb9-9fc1-43b2-bdbf-e5292dcd4dfe",
   "metadata": {},
   "outputs": [],
   "source": [
    "spark = (\n",
    "    SparkSession\n",
    "        .builder\n",
    "        .appName(\"graphs\")\n",
    "        .master(\"local[4]\")\n",
    "        .config(\"spark.sql.warehouse.dir\", \"/tmp/warehouse\")\n",
    "        .getOrCreate()\n",
    ")\n",
    "sc = spark.sparkContext\n",
    "sc.setCheckpointDir(\"/tmp/plan/checkpoint\")"
   ]
  },
  {
   "cell_type": "markdown",
   "id": "7a135fcb-9a6d-4016-9418-961e1be2cdb1",
   "metadata": {},
   "source": [
    "## Настройка графов"
   ]
  },
  {
   "cell_type": "code",
   "execution_count": null,
   "id": "1a28cf96-7349-49e1-9f10-9d2601673f20",
   "metadata": {},
   "outputs": [],
   "source": [
    "class Graph(NamedTuple):\n",
    "    edges: DataFrame\n",
    "    vertices: DataFrame"
   ]
  },
  {
   "cell_type": "code",
   "execution_count": null,
   "id": "a080069f-e2eb-48f3-8878-ab2453a70e14",
   "metadata": {},
   "outputs": [],
   "source": [
    "def graph() -> Graph:\n",
    "    start = 0\n",
    "    end = 500\n",
    "    edges = []\n",
    "    for x in range(1000):\n",
    "        edges += [ (x, x + 1, randrange(10)) for x in range(start, end) ] + [ (randrange(start, end), randrange(start, end)) for _ in range(1000) ]\n",
    "        start += 1000\n",
    "        end += 1000\n",
    "    edges_df = (\n",
    "        spark\n",
    "            .createDataFrame(edges)\n",
    "            .toDF(\"src\", \"dst\", \"weight\")\n",
    "    )\n",
    "\n",
    "    vertices = set()\n",
    "\n",
    "    for x, y in edges:\n",
    "        vertices.add(x)\n",
    "        vertices.add(y)\n",
    "\n",
    "    vertices_df = (\n",
    "        spark\n",
    "            .createDataFrame([(x,) for x in vertices])\n",
    "            .toDF(\"id\")\n",
    "    )\n",
    "    return Graph(edges_df, vertices_df)"
   ]
  },
  {
   "cell_type": "code",
   "execution_count": null,
   "id": "6642d491-3a1f-4e90-ac00-adc678801177",
   "metadata": {},
   "outputs": [],
   "source": [
    "def small_graph() -> Graph:\n",
    "    verties = [ (x,) for x in range(1, 7) ]\n",
    "    verties_df = (\n",
    "        spark\n",
    "            .createDataFrame(verties)\n",
    "            .toDF(\"id\")\n",
    "    )\n",
    "    edges = [ (1, 2, 1), (1, 3, 5), (2, 3, 1), (3, 4, 1), (4, 5, 1), (6, 6, 1) ]\n",
    "    edges_df = (\n",
    "        spark\n",
    "            .createDataFrame(edges)\n",
    "            .toDF(\"src\", \"dst\", \"weight\")\n",
    "    )\n",
    "    return Graph(edges_df, verties_df)"
   ]
  },
  {
   "cell_type": "code",
   "execution_count": null,
   "id": "89f06358-c29a-49b3-ae43-7e7050a01d46",
   "metadata": {},
   "outputs": [],
   "source": [
    "from datetime import datetime\n",
    "def timer(handler):\n",
    "    start = datetime.now()\n",
    "    handler()\n",
    "    print(datetime.now() - start)"
   ]
  },
  {
   "cell_type": "code",
   "execution_count": null,
   "id": "8348a7a8-7d2d-42c0-97a2-37b96283dad6",
   "metadata": {},
   "outputs": [],
   "source": [
    "@dataclass\n",
    "class Scope:\n",
    "    @verify(UNIQUE)\n",
    "    class Direction(StrEnum):\n",
    "        IN = \"IN\"\n",
    "        OUT = \"OUT\"\n",
    "        INOUT = \"INOUT\"\n",
    "\n",
    "    def __init__(self, edges: DataFrame):\n",
    "        self.inward = edges_df.withColumnRenamed(\"dst\", \"id\").withColumnRenamed(\"src\", \"nbr\").withColumn(\"dir\", F.lit(\"IN\"))\n",
    "        self.outward = edges_df.withColumnRenamed(\"src\", \"id\").withColumnRenamed(\"dst\", \"nbr\").withColumn(\"dir\", F.lit(\"OUT\"))\n",
    "        self.all_nbr = self.outward.union(self.inward)\n",
    "\n",
    "    inward: DataFrame\n",
    "    outward: DataFrame\n",
    "    all_nbr: DataFrame\n",
    "\n",
    "    def __call__(self, dir: 'Scope.Direction') -> DataFrame:\n",
    "        match dir:\n",
    "            case Scope.Direction.IN:\n",
    "                return self.inward\n",
    "            case Scope.Direction.OUT:\n",
    "                return self.outward\n",
    "            case Scope.Direction.INOUT:\n",
    "                return self.all_nbr\n",
    "            case _:\n",
    "                raise ValueError(f\"Unknown {dir}\")\n",
    "\n",
    "    def __iter__(self):\n",
    "        yield self.inward\n",
    "        yield self.outward\n",
    "        yield self.all_nbr\n",
    "        "
   ]
  },
  {
   "cell_type": "markdown",
   "id": "612eb9e4-16c7-461e-b3c2-d1774840045e",
   "metadata": {
    "jp-MarkdownHeadingCollapsed": true
   },
   "source": [
    "# Компоненты связности - Connected Components"
   ]
  },
  {
   "cell_type": "markdown",
   "id": "4d2aac40-54bc-4b45-bb88-1b37cdca7541",
   "metadata": {
    "jp-MarkdownHeadingCollapsed": true
   },
   "source": [
    "## Классический алгоритм"
   ]
  },
  {
   "cell_type": "markdown",
   "id": "11c09481-2c6d-429f-8f56-893475e74deb",
   "metadata": {
    "jp-MarkdownHeadingCollapsed": true
   },
   "source": [
    "### Подготовка данных"
   ]
  },
  {
   "cell_type": "code",
   "execution_count": null,
   "id": "8f61e7d4-9771-43f3-ae12-addae7985052",
   "metadata": {},
   "outputs": [],
   "source": [
    "edges_df, vertices_df = graph()"
   ]
  },
  {
   "cell_type": "code",
   "execution_count": null,
   "id": "15c59014-70c3-4243-8ea4-e92c4d44d27c",
   "metadata": {},
   "outputs": [],
   "source": [
    "edges = (\n",
    "    edges_df\n",
    "        .groupBy(col('src'))\n",
    "        .agg(F.collect_list('dst').alias('dsts'))\n",
    "        .collect()\n",
    ")\n",
    "edges = { src: dsts for src, dsts in edges }"
   ]
  },
  {
   "cell_type": "code",
   "execution_count": null,
   "id": "eaf86026-85e7-4d20-ba44-f7b27e166762",
   "metadata": {},
   "outputs": [],
   "source": [
    "vertices = { row.id: row for row in vertices_df.collect() }"
   ]
  },
  {
   "cell_type": "markdown",
   "id": "7eb3de5a-5139-4452-9a6f-3d6d5972a34b",
   "metadata": {
    "jp-MarkdownHeadingCollapsed": true
   },
   "source": [
    "### Вычисление"
   ]
  },
  {
   "cell_type": "code",
   "execution_count": null,
   "id": "de489300-3d78-4c8f-9113-455cf15255b7",
   "metadata": {},
   "outputs": [],
   "source": [
    "visited = set()\n",
    "def dfs_cc(k: int, current_component: int, components: dict) -> None:\n",
    "    global edges\n",
    "    global visited\n",
    "\n",
    "    visited.add(k)\n",
    "    if current_component in components:\n",
    "        components[current_component].append(k)\n",
    "    else:\n",
    "        components[current_component] = [k]\n",
    "\n",
    "    if k not in edges: return\n",
    "    for v in edges[k]:\n",
    "        if v in visited: continue\n",
    "        dfs_cc(v, current_component, components)\n",
    "\n",
    "def run_cc() -> dict:\n",
    "    global vertices\n",
    "    global visited\n",
    "    component = 0\n",
    "    components = {}\n",
    "    for k in vertices.keys():\n",
    "        if k in visited: continue\n",
    "        dfs_cc(k, component, components)\n",
    "        component += 1\n",
    "\n",
    "    return components"
   ]
  },
  {
   "cell_type": "code",
   "execution_count": null,
   "id": "6d40f489-1f90-4c2e-99ea-2f054d765069",
   "metadata": {},
   "outputs": [],
   "source": [
    "classic_cc_result = run_cc()"
   ]
  },
  {
   "cell_type": "markdown",
   "id": "7ce3b2ae-8ef4-4177-bc4a-9e1ca2e1239e",
   "metadata": {},
   "source": [
    "## Pregel"
   ]
  },
  {
   "cell_type": "markdown",
   "id": "56ba59de-c8bd-4472-aa29-ab056ea6413b",
   "metadata": {},
   "source": [
    "### Подготовка данных"
   ]
  },
  {
   "cell_type": "code",
   "execution_count": null,
   "id": "45126985-3b72-4878-8718-296e0cf71289",
   "metadata": {},
   "outputs": [],
   "source": [
    "edges_df, vertices_df = graph()"
   ]
  },
  {
   "cell_type": "code",
   "execution_count": null,
   "id": "5ad14501-972a-42a9-934b-3fca2ad1ded3",
   "metadata": {},
   "outputs": [],
   "source": [
    "vertices_df.printSchema()"
   ]
  },
  {
   "cell_type": "code",
   "execution_count": null,
   "id": "292ff292-0da1-47fd-9263-0f8e3a4a3b5c",
   "metadata": {},
   "outputs": [],
   "source": [
    "edges_df.printSchema()"
   ]
  },
  {
   "cell_type": "code",
   "execution_count": null,
   "id": "93f29314-76ed-4b75-8bb8-7201b4998ae5",
   "metadata": {},
   "outputs": [],
   "source": [
    "cc_df = vertices_df.select(\n",
    "    col(\"id\"),\n",
    "    col(\"id\").alias(\"value\")\n",
    ")\n",
    "cc_df.printSchema()"
   ]
  },
  {
   "cell_type": "markdown",
   "id": "a2661fe5-5842-4153-9b8f-caee07e84a1a",
   "metadata": {
    "jp-MarkdownHeadingCollapsed": true
   },
   "source": [
    "### Идея"
   ]
  },
  {
   "cell_type": "code",
   "execution_count": null,
   "id": "e14795ee-aeb6-4b8e-81b6-603d76f696f2",
   "metadata": {},
   "outputs": [],
   "source": [
    "edges_df.createOrReplaceTempView(\"edges\")\n",
    "cc_df.createOrReplaceTempView(\"vertices\")\n",
    "spark.sql(\"\"\"\n",
    "WITH messages AS (\n",
    "    SELECT e.dst id\n",
    "         , MIN(v.value) message\n",
    "      FROM edges e\n",
    "      JOIN vertices v\n",
    "        ON (e.src = v.id)\n",
    "     GROUP BY e.dst\n",
    "),\n",
    "superstep AS (\n",
    "    SELECT id\n",
    "         , LEAST(message, value) value\n",
    "      FROM vertices v\n",
    "      LEFT JOIN messages m\n",
    "     USING (id)\n",
    ")\n",
    "SELECT *\n",
    "  FROM superstep\n",
    "\"\"\")"
   ]
  },
  {
   "cell_type": "markdown",
   "id": "421c667c-e2d3-4dea-9d75-4d82b4de7a00",
   "metadata": {},
   "source": [
    "### Реализация"
   ]
  },
  {
   "cell_type": "code",
   "execution_count": null,
   "id": "55201b8a-836f-4db7-86e4-c082dd329ac8",
   "metadata": {},
   "outputs": [],
   "source": [
    "for i in range(15):\n",
    "    cc_df = (\n",
    "        edges_df.join(cc_df, col(\"src\") == col(\"id\"))\n",
    "            .select(col(\"dst\").alias(\"id\"), col(\"value\"))\n",
    "            .groupby(col(\"id\")).agg(F.min(\"value\").alias(\"message\"))\n",
    "            .join(cc_df, \"id\", \"right\")\n",
    "            .select(\"id\", F.coalesce(\"message\", \"value\").alias(\"message\"), \"value\")\n",
    "            .select(\"id\", F.least(\"message\", \"value\").alias(\"value\"))\n",
    "    )\n",
    "    if i % 5 == 0:\n",
    "        cc_df = cc_df.checkpoint()"
   ]
  },
  {
   "cell_type": "code",
   "execution_count": null,
   "id": "ce311be8-790d-4d9c-83a1-cb0be0ee76ca",
   "metadata": {},
   "outputs": [],
   "source": [
    "cc_df.groupBy(\"value\").count().count()"
   ]
  },
  {
   "cell_type": "markdown",
   "id": "1399847c-c998-410e-bb79-85510752d867",
   "metadata": {},
   "source": [
    "## GraphLab"
   ]
  },
  {
   "cell_type": "markdown",
   "id": "1b041caf-05de-48d9-bde5-5eb331a4871e",
   "metadata": {},
   "source": [
    "### Подготовка данных"
   ]
  },
  {
   "cell_type": "code",
   "execution_count": null,
   "id": "a95bd8d7-1354-46ef-88de-8660d6cbf680",
   "metadata": {},
   "outputs": [],
   "source": [
    "edges_df, vertices_df = graph()"
   ]
  },
  {
   "cell_type": "code",
   "execution_count": null,
   "id": "19cbfbc9-a919-444c-8bce-aaa9fcdcd557",
   "metadata": {},
   "outputs": [],
   "source": [
    "vertices_df.printSchema()"
   ]
  },
  {
   "cell_type": "code",
   "execution_count": null,
   "id": "1562b2d7-a5a8-4d5e-8480-77c7e489a74a",
   "metadata": {},
   "outputs": [],
   "source": [
    "edges_df.printSchema()"
   ]
  },
  {
   "cell_type": "code",
   "execution_count": null,
   "id": "bf69fa4f-ea29-46bf-91c7-44ad912b48b6",
   "metadata": {},
   "outputs": [],
   "source": [
    "outward = edges_df.select(col(\"src\").alias(\"id\"), col(\"dst\").alias(\"nbr\"), F.lit(\"OUT\").alias(\"dir\"))\n",
    "inward = edges_df.select(col(\"dst\").alias(\"id\"), col(\"src\").alias(\"nbr\"), F.lit(\"IN\").alias(\"dir\"))\n",
    "scope_df = outward.union(inward)"
   ]
  },
  {
   "cell_type": "code",
   "execution_count": null,
   "id": "c05c3556-2091-41d1-9604-8cfd1746e0d7",
   "metadata": {},
   "outputs": [],
   "source": [
    "gl_cc_result_df = vertices_df.select(col(\"id\"), col(\"id\").alias(\"cc\"))"
   ]
  },
  {
   "cell_type": "code",
   "execution_count": null,
   "id": "53106572-2af8-4acf-b577-55bed932e8d1",
   "metadata": {},
   "outputs": [],
   "source": [
    "for i in range(10):\n",
    "    min_nbr_df = (\n",
    "        scope_df.alias(\"s\")\n",
    "            .join(gl_cc_result_df.alias(\"r\"), col(\"s.nbr\") == col(\"r.id\"))\n",
    "            .groupBy(col(\"s.id\"))\n",
    "            .agg(F.min(\"cc\").alias(\"acc_cc\"))\n",
    "    )\n",
    "\n",
    "    gl_cc_result_df = (\n",
    "        min_nbr_df.alias(\"a\")\n",
    "            .join(gl_cc_result_df.alias(\"r\"), \"id\", \"right\")\n",
    "            .select(\"id\", F.least(col(\"r.cc\"), col(\"a.acc_cc\")).alias(\"cc\"))\n",
    "    )\n",
    "\n",
    "    if i % 5 == 0:\n",
    "        gl_cc_result_df = gl_cc_result_df.checkpoint()"
   ]
  },
  {
   "cell_type": "code",
   "execution_count": null,
   "id": "67b38058-f6b7-44bf-95cf-3d9b17806507",
   "metadata": {},
   "outputs": [],
   "source": [
    "gl_cc_result_df.groupBy(\"cc\").count().count()"
   ]
  },
  {
   "cell_type": "markdown",
   "id": "aa2912cf-d2df-4455-bfcc-9e142dc8bca4",
   "metadata": {},
   "source": [
    "### Реализация"
   ]
  },
  {
   "cell_type": "code",
   "execution_count": null,
   "id": "6c6d65b5-4033-433e-beaa-41e3d9e46592",
   "metadata": {},
   "outputs": [],
   "source": [
    "for i in range(10):\n",
    "    # list outward nodes\n",
    "    outward_cc_df = (\n",
    "        edges_df.join(result_df, col(\"dst\") == col(\"id\"))\n",
    "            .select(\n",
    "                col(\"src\").alias(\"id\"),\n",
    "                col(\"dst\"),\n",
    "                col(\"value\"))\n",
    "    )\n",
    "    # list inward nodes\n",
    "    inward_cc_df = (\n",
    "        edges_df.join(result_df, col(\"src\") == col(\"id\"))\n",
    "            .select(\n",
    "                col(\"dst\").alias(\"id\"),\n",
    "                col(\"src\"),\n",
    "                col(\"value\"))\n",
    "    )\n",
    "    inward_result_df = (\n",
    "        inward_cc_df\n",
    "            .groupBy(\"id\")\n",
    "            .agg(F.min(\"value\").alias(\"min_in_cc\"))\n",
    "    )\n",
    "    outward_result_df = (\n",
    "        outward_cc_df\n",
    "            .groupBy(\"id\")\n",
    "            .agg(F.min(\"value\").alias(\"min_out_cc\"))\n",
    "    )\n",
    "    result_df = (\n",
    "        result_df\n",
    "            .join(inward_result_df, \"id\", \"left\")\n",
    "            .join(outward_result_df, \"id\", \"left\")\n",
    "            .select(\"id\", F.least(\"value\", \"min_in_cc\", \"min_out_cc\").alias(\"value\"))\n",
    "    )\n",
    "    if i % 5 == 0:\n",
    "        result_df = result_df.checkpoint()"
   ]
  },
  {
   "cell_type": "code",
   "execution_count": null,
   "id": "981e2d59-ae93-4984-ad37-325da452c18c",
   "metadata": {},
   "outputs": [],
   "source": [
    "result_df.groupBy(\"value\").count().count()"
   ]
  },
  {
   "cell_type": "code",
   "execution_count": null,
   "id": "a82bdf7a-7342-46c9-b4c7-b5bee489a980",
   "metadata": {},
   "outputs": [],
   "source": [
    "from datetime import datetime\n",
    "start = datetime.now()\n",
    "\n",
    "for i in range(10):\n",
    "    # list outward nodes\n",
    "    outward_cc_df = (\n",
    "        edges_df.join(result_df, col(\"dst\") == col(\"id\"))\n",
    "            .select(\n",
    "                col(\"src\").alias(\"id\"),\n",
    "                col(\"dst\"),\n",
    "                col(\"value\"))\n",
    "    )\n",
    "    # list inward nodes\n",
    "    inward_cc_df = (\n",
    "        edges_df.join(result_df, col(\"src\") == col(\"id\"))\n",
    "            .select(\n",
    "                col(\"dst\").alias(\"id\"),\n",
    "                col(\"src\"),\n",
    "                col(\"value\"))\n",
    "    )\n",
    "    inward_result_df = (\n",
    "        inward_cc_df\n",
    "            .groupBy(\"id\")\n",
    "            .agg(F.min(\"value\").alias(\"min_in_cc\"))\n",
    "    )\n",
    "    outward_result_df = (\n",
    "        outward_cc_df\n",
    "            .groupBy(\"id\")\n",
    "            .agg(F.min(\"value\").alias(\"min_out_cc\"))\n",
    "    )\n",
    "    result_df = (\n",
    "        result_df\n",
    "            .join(inward_result_df, \"id\", \"left\")\n",
    "            .join(outward_result_df, \"id\", \"left\")\n",
    "            .select(\"id\", F.least(\"value\", \"min_in_cc\", \"min_out_cc\").alias(\"value\"))\n",
    "    )\n",
    "    if i % 5 == 0:\n",
    "        result_df = result_df.checkpoint()\n",
    "\n",
    "print(result_df.groupBy(\"value\").count().count())\n",
    "print(datetime.now() - start)"
   ]
  },
  {
   "cell_type": "markdown",
   "id": "770be65b-edaa-42d2-bb86-aabf736e245c",
   "metadata": {
    "jp-MarkdownHeadingCollapsed": true
   },
   "source": [
    "## PowerGraph"
   ]
  },
  {
   "cell_type": "code",
   "execution_count": null,
   "id": "cb849246-d1c3-4bc3-9b32-8d9c3ecc3106",
   "metadata": {},
   "outputs": [],
   "source": [
    "edges_df, vertices_df = small_graph()"
   ]
  },
  {
   "cell_type": "code",
   "execution_count": null,
   "id": "4f473a40-6695-4286-ac20-69fcc885387d",
   "metadata": {},
   "outputs": [],
   "source": [
    "vertices_df.printSchema()"
   ]
  },
  {
   "cell_type": "code",
   "execution_count": null,
   "id": "40cd3aaf-7bda-4c5c-9b4f-835c47b1f66a",
   "metadata": {},
   "outputs": [],
   "source": [
    "edges_df.printSchema()"
   ]
  },
  {
   "cell_type": "code",
   "execution_count": null,
   "id": "fa607b9a-8180-4f05-9604-3d06a6244f0d",
   "metadata": {},
   "outputs": [],
   "source": [
    "scope = Scope(edges_df)"
   ]
  },
  {
   "cell_type": "code",
   "execution_count": null,
   "id": "ebc12248-f17a-4ebe-bd5d-27bd05ed8c69",
   "metadata": {},
   "outputs": [],
   "source": [
    "pg_cc_result_df = vertices_df.select(col(\"id\"), col(\"id\").alias(\"cc\"))\n",
    "all_nbr = scope.all_nbr\n",
    "\n",
    "for i in range(8):\n",
    "    gather_df = (\n",
    "        all_nbr\n",
    "            .join(\n",
    "                pg_cc_result_df,\n",
    "                pg_cc_result_df.id == all_nbr.nbr,\n",
    "                \"right\")\n",
    "            .select(all_nbr.id, pg_cc_result_df.cc.alias(\"nbr_cc\"))\n",
    "    )\n",
    "    sum_df = gather_df.groupBy(\"id\").agg(F.min(\"nbr_cc\").alias(\"acc_cc\"))\n",
    "    apply_df = (\n",
    "        sum_df\n",
    "            .join(pg_cc_result_df, \"id\", \"right\")\n",
    "            .select(col(\"id\"), F.least(\"acc_cc\", \"cc\").alias(\"cc\"))\n",
    "    )\n",
    "    scatter_df = apply_df\n",
    "    pg_cc_result_df = scatter_df\n",
    "    if i % 5 == 0:\n",
    "        pg_cc_result_df = pg_cc_result_df.checkpoint()\n",
    "\n",
    "pg_cc_result_df.groupBy(\"cc\").count().count()"
   ]
  },
  {
   "cell_type": "markdown",
   "id": "a716f07c-731c-4b6f-b12d-632baa4d796c",
   "metadata": {},
   "source": [
    "# Крачайшее расстояние - Single Source Shortest Path"
   ]
  },
  {
   "cell_type": "markdown",
   "id": "ee5aa075-e037-4a16-b242-38289649784c",
   "metadata": {},
   "source": [
    "## Pregel"
   ]
  },
  {
   "cell_type": "markdown",
   "id": "86cd2df4-6a19-4e7e-b420-374924fcb00f",
   "metadata": {},
   "source": [
    "### Подготовка данных"
   ]
  },
  {
   "cell_type": "code",
   "execution_count": null,
   "id": "c8a06c72-a627-4624-8b1f-4cae7d348686",
   "metadata": {},
   "outputs": [],
   "source": [
    "edges_df, vertices_df = small_graph()"
   ]
  },
  {
   "cell_type": "code",
   "execution_count": null,
   "id": "cda713e8-f834-4dc1-b3bb-5ad89ac96059",
   "metadata": {},
   "outputs": [],
   "source": [
    "vertices_df.printSchema()"
   ]
  },
  {
   "cell_type": "code",
   "execution_count": null,
   "id": "aaef37de-e8fa-480a-9f89-a82ef3502eee",
   "metadata": {},
   "outputs": [],
   "source": [
    "edges_df.printSchema()"
   ]
  },
  {
   "cell_type": "code",
   "execution_count": null,
   "id": "dc5e2317-65fc-45fc-b23c-6789bcf87876",
   "metadata": {},
   "outputs": [],
   "source": [
    "def get_min_dist_init_df(start:int = 1) -> DataFrame:\n",
    "    df = vertices_df.withColumn(\"value\",\n",
    "        F.when(\n",
    "            col(\"id\") == F.lit(start),\n",
    "            F.lit(0)\n",
    "        )\n",
    "        .otherwise(F.lit(sys.maxsize // 2))\n",
    "    )\n",
    "    return df\n",
    "\n",
    "min_dist_df = get_min_dist_init_df()\n",
    "min_dist_df.printSchema()"
   ]
  },
  {
   "cell_type": "markdown",
   "id": "741c1923-0159-4520-9bdb-2ce2148efdb1",
   "metadata": {},
   "source": [
    "### Реализация"
   ]
  },
  {
   "cell_type": "code",
   "execution_count": null,
   "id": "fa89a664-40be-4ea7-bd0c-a85b90146f8b",
   "metadata": {},
   "outputs": [],
   "source": [
    "min_dist_df = get_min_dist_init_df(start=1)\n",
    "for _ in range(5):\n",
    "    min_dist_df = (\n",
    "        edges_df.join(min_dist_df, col(\"src\") == col(\"id\"))\n",
    "            .select(col(\"dst\").alias(\"id\"), F.expr(\"dist + weight\").alias(\"message\"))\n",
    "            .groupby(col(\"id\")).agg(F.min(\"message\").alias(\"message\"))\n",
    "            .join(min_dist_df, \"id\", \"right\")\n",
    "            .select(\"id\", F.least(\"message\", \"dist\").alias(\"dist\"))\n",
    "    )\n",
    "\n",
    "min_dist_df.show()"
   ]
  },
  {
   "cell_type": "markdown",
   "id": "2d5538e8-7622-429b-9abb-79b80212def8",
   "metadata": {},
   "source": [
    "## GraphLab"
   ]
  },
  {
   "cell_type": "code",
   "execution_count": null,
   "id": "6da707b8-6d9a-4cfd-bbcd-7250c8e69e1e",
   "metadata": {},
   "outputs": [],
   "source": [
    "edges_df, vertices_df = small_graph()"
   ]
  },
  {
   "cell_type": "code",
   "execution_count": null,
   "id": "6ff8d7a3-67c4-4e03-804d-2b5ebc105375",
   "metadata": {},
   "outputs": [],
   "source": [
    "vertices_df.printSchema()"
   ]
  },
  {
   "cell_type": "code",
   "execution_count": null,
   "id": "3e971d25-d75c-4e68-9f0e-f00892a51877",
   "metadata": {},
   "outputs": [],
   "source": [
    "edges_df.printSchema()"
   ]
  },
  {
   "cell_type": "code",
   "execution_count": null,
   "id": "de1d42df-1a46-4c1e-8230-abae36a78cef",
   "metadata": {},
   "outputs": [],
   "source": [
    "scope = Scope(edges_df)"
   ]
  },
  {
   "cell_type": "code",
   "execution_count": null,
   "id": "864319ff-c478-4517-8ba4-d56d174424f3",
   "metadata": {},
   "outputs": [],
   "source": [
    "min_dist_df = get_min_dist_df(start=1)\n",
    "inward = scope.inward\n",
    "\n",
    "for _ in range(5):\n",
    "    min_dist_nbr_df = (\n",
    "        inward.alias(\"s\")\n",
    "            .join(min_dist_df.alias(\"r\"), col(\"s.nbr\") == col(\"r.id\"))\n",
    "            .select(col(\"s.id\"), F.expr(\"dist + weight\").alias(\"dist\"))\n",
    "            .groupBy(col(\"s.id\"))\n",
    "            .agg(F.min(\"dist\").alias(\"acc_min_dist\"))\n",
    "    )\n",
    "    \n",
    "    min_dist_df = (\n",
    "        min_dist_nbr_df.alias(\"a\")\n",
    "            .join(min_dist_df.alias(\"r\"), \"id\", \"right\")\n",
    "            .select(\"id\", F.least(col(\"r.dist\"), col(\"a.acc_min_dist\")).alias(\"dist\"))\n",
    "    )\n",
    "min_dist_df.show()"
   ]
  },
  {
   "cell_type": "markdown",
   "id": "facd7c1c-57bd-40e5-b762-ea26a0754c70",
   "metadata": {
    "jp-MarkdownHeadingCollapsed": true
   },
   "source": [
    "## PowerGraph"
   ]
  },
  {
   "cell_type": "code",
   "execution_count": null,
   "id": "59d76c42-1e72-41d0-836a-f6ea7b0dc14e",
   "metadata": {},
   "outputs": [],
   "source": [
    "edges_df, vertices_df = small_graph()"
   ]
  },
  {
   "cell_type": "code",
   "execution_count": null,
   "id": "a5fd13af-3eb9-41fd-9bfa-16e3bb34cda4",
   "metadata": {},
   "outputs": [],
   "source": [
    "vertices_df.printSchema()"
   ]
  },
  {
   "cell_type": "code",
   "execution_count": null,
   "id": "7f44c52f-288e-4d22-9c17-aabcf54a3539",
   "metadata": {},
   "outputs": [],
   "source": [
    "edges_df.printSchema()"
   ]
  },
  {
   "cell_type": "code",
   "execution_count": null,
   "id": "dd5e4864-2f22-4fb6-9af4-29aa40f37258",
   "metadata": {},
   "outputs": [],
   "source": [
    "scope = Scope(edges_df)"
   ]
  },
  {
   "cell_type": "code",
   "execution_count": null,
   "id": "33fb9bd8-2804-471b-8eaf-6f1cee82e71f",
   "metadata": {},
   "outputs": [],
   "source": [
    "pg_min_dist_result_df = get_min_dist_df(start=1)\n",
    "inward = scope.inward\n",
    "for _ in range(5):\n",
    "    gather_df = (\n",
    "        inward.alias(\"s\")\n",
    "            .join(\n",
    "                pg_min_dist_result_df.alias(\"r\"),\n",
    "                col(\"r.id\") == col(\"s.nbr\"))\n",
    "            .select(col(\"s.id\"), F.expr(\"r.dist + s.weight\").alias(\"dist\"))\n",
    "    )\n",
    "    sum_df = gather_df.groupBy(\"id\").agg(F.min(\"dist\").alias(\"acc_dist\"))\n",
    "    apply_df = (\n",
    "        sum_df\n",
    "            .join(pg_min_dist_result_df, \"id\", \"right\")\n",
    "            .select(col(\"id\"), F.least(\"acc_dist\", \"dist\").alias(\"dist\"))\n",
    "    )\n",
    "    scatter_df = apply_df\n",
    "    pg_min_dist_result_df = scatter_df\n",
    "\n",
    "pg_min_dist_result_df.show()"
   ]
  },
  {
   "cell_type": "markdown",
   "id": "5c3f3202-bb4a-4055-8b11-a001d7399a7b",
   "metadata": {},
   "source": [
    "# Топологическая сортировка - Topological Sort"
   ]
  },
  {
   "cell_type": "markdown",
   "id": "8b452cc2-87a2-4c89-a716-f46f12d53412",
   "metadata": {},
   "source": [
    "## Pregel"
   ]
  },
  {
   "cell_type": "markdown",
   "id": "e6797f6a-8e32-4053-8eb6-54a30a6bf275",
   "metadata": {},
   "source": [
    "### Подготовка данных"
   ]
  },
  {
   "cell_type": "code",
   "execution_count": null,
   "id": "026fb104-08f2-4366-b548-9fe9f53c00a8",
   "metadata": {},
   "outputs": [],
   "source": [
    "edges_df, vertices_df = small_graph()"
   ]
  },
  {
   "cell_type": "code",
   "execution_count": null,
   "id": "983eb0a1-9203-4528-95f4-4c84f3734eaf",
   "metadata": {},
   "outputs": [],
   "source": [
    "vertices_df.printSchema()"
   ]
  },
  {
   "cell_type": "code",
   "execution_count": null,
   "id": "eee6e865-99d4-449b-ae09-870245b9f25a",
   "metadata": {},
   "outputs": [],
   "source": [
    "edges_df.printSchema()"
   ]
  },
  {
   "cell_type": "markdown",
   "id": "c0dc3a51-9333-48a4-8145-79bf3b730ef7",
   "metadata": {
    "jp-MarkdownHeadingCollapsed": true
   },
   "source": [
    "### Реализация"
   ]
  },
  {
   "cell_type": "code",
   "execution_count": null,
   "id": "7fbec34a-e61a-4a95-9b05-f83dd6535129",
   "metadata": {},
   "outputs": [],
   "source": [
    "sorted_df = vertices_df.withColumn(\"ord\", F.lit(1))\n",
    "\n",
    "for _ in range(5):\n",
    "    sorted_df = (\n",
    "        edges_df.where(col(\"src\") != col(\"dst\"))\n",
    "            .join(sorted_df, col(\"src\") == col(\"id\"))\n",
    "            .select(col(\"dst\").alias(\"id\"), col(\"ord\").alias(\"message\"))\n",
    "            .groupby(col(\"id\")).agg(F.max(\"message\").alias(\"message\"))\n",
    "            .join(sorted_df, \"id\", \"right\")\n",
    "            .select(\"id\", F.greatest(F.expr(\"message + 1\"), \"ord\").alias(\"ord\"))\n",
    "    )\n",
    "\n",
    "sorted_df.orderBy(\"ord\").show()"
   ]
  },
  {
   "cell_type": "markdown",
   "id": "1b805410-39aa-4b9e-83df-53aa0bce9866",
   "metadata": {
    "jp-MarkdownHeadingCollapsed": true
   },
   "source": [
    "## GraphLab"
   ]
  },
  {
   "cell_type": "markdown",
   "id": "39561a9f-2c35-4f28-9e8b-dc623c6ac11d",
   "metadata": {},
   "source": [
    "### Подготовка данных"
   ]
  },
  {
   "cell_type": "code",
   "execution_count": null,
   "id": "14a08f79-b9dc-4295-9778-49e93d8a194f",
   "metadata": {},
   "outputs": [],
   "source": [
    "edges_df, vertices_df = small_graph()"
   ]
  },
  {
   "cell_type": "code",
   "execution_count": null,
   "id": "76a3792f-e4ec-4666-a834-577fda316943",
   "metadata": {},
   "outputs": [],
   "source": [
    "vertices_df.printSchema()"
   ]
  },
  {
   "cell_type": "code",
   "execution_count": null,
   "id": "25830e45-12e7-40bd-8872-175c4da9c6cf",
   "metadata": {},
   "outputs": [],
   "source": [
    "edges_df.printSchema()"
   ]
  },
  {
   "cell_type": "code",
   "execution_count": null,
   "id": "4399a0b6-7400-4f40-bf39-4fb60bb620e5",
   "metadata": {},
   "outputs": [],
   "source": [
    "scope = Scope(edges_df)"
   ]
  },
  {
   "cell_type": "markdown",
   "id": "54148128-7aca-4b1e-873f-24a10c702750",
   "metadata": {},
   "source": [
    "### Реализация I"
   ]
  },
  {
   "cell_type": "code",
   "execution_count": null,
   "id": "7b37e890-722e-4c5f-96e3-35ad7f83f65a",
   "metadata": {},
   "outputs": [],
   "source": [
    "sorted_df = vertices_df.withColumn(\"ord\", F.lit(1))\n",
    "inward = scope.inward\n",
    "\n",
    "for _ in range(5):\n",
    "    sorted_nbr_df = (\n",
    "        inward.where(\"src != dst\").alias(\"s\")\n",
    "            .join(sorted_df.alias(\"r\"), col(\"s.nbr\") == col(\"r.id\"))\n",
    "            .select(col(\"s.id\"), F.col(\"r.ord\"))\n",
    "            .groupBy(col(\"s.id\"))\n",
    "            .agg(F.max(\"ord\").alias(\"acc_ord\"))\n",
    "    )\n",
    "    \n",
    "    sorted_df = (\n",
    "        sorted_nbr_df.alias(\"a\")\n",
    "            .join(sorted_df.alias(\"r\"), \"id\", \"right\")\n",
    "            .select(\"id\", F.greatest(col(\"r.ord\"), F.expr(\"acc_ord + 1\")).alias(\"ord\"))\n",
    "    )\n",
    "\n",
    "sorted_df.orderBy(\"ord\").show()"
   ]
  },
  {
   "cell_type": "markdown",
   "id": "872a4f28-73e0-4533-954f-96ea00826e9e",
   "metadata": {},
   "source": [
    "### Реализация II"
   ]
  },
  {
   "cell_type": "code",
   "execution_count": null,
   "id": "31757a38-b37b-4faa-b8ac-1204e3912682",
   "metadata": {},
   "outputs": [],
   "source": [
    "inward = scope.inward\n",
    "outward = scope.outward\n",
    "\n",
    "sorted_df = vertices_df.withColumn(\"ord\", F.rand())\n",
    "\n",
    "for _ in range(5):\n",
    "    inward_nbr_df = (\n",
    "        inward.alias(\"s\")\n",
    "            .join(sorted_df.alias(\"r\"), col(\"s.nbr\") == col(\"r.id\"))\n",
    "            .select(col(\"s.id\"), F.expr(\"ord\").alias(\"ord\"), col(\"r.id\"))\n",
    "            .groupBy(col(\"s.id\"))\n",
    "            .agg(F.max(\"ord\").alias(\"in_acc_ord\"))\n",
    "    )\n",
    "    outward_nbr_df = (\n",
    "        outward.alias(\"s\")\n",
    "            .join(sorted_df.alias(\"r\"), col(\"s.nbr\") == col(\"r.id\"))\n",
    "            .select(col(\"s.id\"), F.expr(\"ord\").alias(\"ord\"), col(\"r.id\"))\n",
    "            .groupBy(col(\"s.id\"))\n",
    "            .agg(F.min(\"ord\").alias(\"out_acc_ord\"))\n",
    "    )\n",
    "    sorted_df = (\n",
    "        inward_nbr_df.join(outward_nbr_df, \"id\", \"full\")\n",
    "            .join(sorted_df, \"id\", \"right\")\n",
    "            .select(\"id\", F.coalesce(\"in_acc_ord\", F.lit(0)).alias(\"max_in\"), F.coalesce(\"out_acc_ord\", F.lit(1)).alias(\"min_out\"), \"ord\")\n",
    "            .select(\"id\", F.abs(F.expr(\"min_out - max_in\")).alias(\"diff\"), \"ord\")\n",
    "            .select(\"id\", F.expr(\"diff / 2\").alias(\"ord\"))\n",
    "    )\n",
    "\n",
    "sorted_df.orderBy(\"ord\").show()"
   ]
  },
  {
   "cell_type": "markdown",
   "id": "bbc9d71f-98de-4760-9196-f153f56fc12d",
   "metadata": {
    "jp-MarkdownHeadingCollapsed": true
   },
   "source": [
    "## PowerGraph"
   ]
  },
  {
   "cell_type": "code",
   "execution_count": null,
   "id": "4d82d457-05fb-42db-b8ae-0149153ea211",
   "metadata": {},
   "outputs": [],
   "source": [
    "edges_df, vertices_df = small_graph()"
   ]
  },
  {
   "cell_type": "code",
   "execution_count": null,
   "id": "faa9479c-b732-4d1d-8408-f07f4311c359",
   "metadata": {},
   "outputs": [],
   "source": [
    "vertices_df.printSchema()"
   ]
  },
  {
   "cell_type": "code",
   "execution_count": null,
   "id": "b50b7aa9-6964-412b-a88d-d22e32a82017",
   "metadata": {},
   "outputs": [],
   "source": [
    "edges_df.printSchema()"
   ]
  },
  {
   "cell_type": "code",
   "execution_count": null,
   "id": "1a454c2f-dfd6-4fdb-af80-fc35e5fbd7eb",
   "metadata": {},
   "outputs": [],
   "source": [
    "scope = Scope(edges_df)"
   ]
  },
  {
   "cell_type": "code",
   "execution_count": null,
   "id": "cbec801b-6090-411e-a3ba-cae13042d3a1",
   "metadata": {},
   "outputs": [],
   "source": [
    "sorted_df = vertices_df.withColumn(\"ord\", F.lit(1))\n",
    "\n",
    "inward = scope.inward\n",
    "for _ in range(5):\n",
    "    gather_df = (\n",
    "        inward.where(\"src != dst\").alias(\"s\")\n",
    "            .join(\n",
    "                sorted_df.alias(\"r\"),\n",
    "                col(\"r.id\") == col(\"s.nbr\"))\n",
    "            .select(col(\"s.id\"), col(\"r.ord\"))\n",
    "    )\n",
    "    sum_df = gather_df.groupBy(\"id\").agg(F.max(\"ord\").alias(\"acc_ord\"))\n",
    "    apply_df = (\n",
    "        sum_df\n",
    "            .join(sorted_df, \"id\", \"right\")\n",
    "            .select(col(\"id\"), F.greatest(F.expr(\"acc_ord + 1\"), \"ord\").alias(\"ord\"))\n",
    "    )\n",
    "    scatter_df = apply_df\n",
    "    sorted_df = scatter_df\n",
    "\n",
    "sorted_df.orderBy(\"ord\").show()"
   ]
  },
  {
   "cell_type": "markdown",
   "id": "ab352aac-5afd-4bcd-ac32-d3050bb9162e",
   "metadata": {},
   "source": [
    "# Общий алгоритм"
   ]
  },
  {
   "cell_type": "markdown",
   "id": "1ce0d0c4-b87b-4f9b-b682-29534e0f9b64",
   "metadata": {},
   "source": [
    "## Pregel"
   ]
  },
  {
   "cell_type": "code",
   "execution_count": null,
   "id": "0c7a91c7-ca62-42d1-af14-4e7921114e50",
   "metadata": {},
   "outputs": [],
   "source": [
    "def pregel_superstep(edges: DataFrame, values: DataFrame, message: Column, reducer: Callable[[Column], Column], computer: Column, **columns: Column) -> DataFrame:\n",
    "    additional_columns = columns.values()\n",
    "    return (\n",
    "        edges.where(col(\"src\") != col(\"dst\"))\n",
    "            .join(values, col(\"src\") == col(\"id\"))\n",
    "            .select(col(\"dst\").alias(\"id\"), message.alias(\"message\"))\n",
    "            .groupby(col(\"id\"))\n",
    "            .agg(reducer(col(\"message\")).alias(\"message\"))\n",
    "            .join(values, \"id\", \"right\")\n",
    "            .select(\"id\", computer.alias(\"value\"), *additional_columns)\n",
    "    )"
   ]
  },
  {
   "cell_type": "code",
   "execution_count": null,
   "id": "6402ada6-ce4d-487c-bd27-e197f282e86f",
   "metadata": {},
   "outputs": [],
   "source": [
    "edges_df, vertices_df = small_graph()"
   ]
  },
  {
   "cell_type": "markdown",
   "id": "9a96b820-5ede-48e7-93e6-8f40910c08bb",
   "metadata": {},
   "source": [
    "### Связные компоненты - Connected Components"
   ]
  },
  {
   "cell_type": "code",
   "execution_count": null,
   "id": "a5770c8b-9514-46be-9bd2-58143467a9a7",
   "metadata": {},
   "outputs": [],
   "source": [
    "cc_df = vertices_df.withColumn(\"value\", col(\"id\"))\n",
    "\n",
    "for _ in range(5):\n",
    "    cc_df = pregel_superstep(\n",
    "        edges=edges_df,\n",
    "        values=cc_df,\n",
    "        message=col(\"value\"),\n",
    "        reducer=F.min,\n",
    "        computer=F.least(col(\"value\"), col(\"message\"))\n",
    "    )\n",
    "\n",
    "cc_df.show()"
   ]
  },
  {
   "cell_type": "markdown",
   "id": "3a859a54-ae43-429f-ac87-334023de532c",
   "metadata": {},
   "source": [
    "### Кратчайщее расстояние - Single Point Shortest Path"
   ]
  },
  {
   "cell_type": "code",
   "execution_count": null,
   "id": "533066b9-278a-459c-9221-99a62783e8ec",
   "metadata": {},
   "outputs": [],
   "source": [
    "pregel_min_dist_df = get_min_dist_init_df(start=1)\n",
    "\n",
    "for _ in range(5):\n",
    "    pregel_min_dist_df = pregel_superstep(\n",
    "        edges=edges_df,\n",
    "        values=pregel_min_dist_df,\n",
    "        message=F.expr(\"value + weight\"),\n",
    "        reducer=F.min,\n",
    "        computer=F.least(\"message\", \"value\")\n",
    "    )\n",
    "\n",
    "new_pregel_min_dist_df.show()"
   ]
  },
  {
   "cell_type": "markdown",
   "id": "97fa0de0-5441-414c-84c8-a71a008f0d57",
   "metadata": {},
   "source": [
    "### Топологическая сортировка - Topological Sort"
   ]
  },
  {
   "cell_type": "code",
   "execution_count": null,
   "id": "0400160a-64ee-47a8-90c4-0b33f3d6f590",
   "metadata": {
    "jupyter": {
     "source_hidden": true
    }
   },
   "outputs": [],
   "source": [
    "sorted_df = vertices_df.withColumn(\"value\", F.lit(1))\n",
    "\n",
    "for _ in range(5):\n",
    "    sorted_df = (\n",
    "        edges_df.where(col(\"src\") != col(\"dst\"))\n",
    "            .join(sorted_df, col(\"src\") == col(\"id\"))\n",
    "            .select(col(\"dst\").alias(\"id\"), col(\"value\").alias(\"message\"))\n",
    "            .groupby(col(\"id\")).agg(F.max(col(\"message\")).alias(\"message\"))\n",
    "            .join(sorted_df, \"id\", \"right\")\n",
    "            .select(\"id\", F.greatest(F.expr(\"message + 1\"), \"value\").alias(\"value\"))\n",
    "    )\n",
    "sorted_df.orderBy(\"value\").show()"
   ]
  },
  {
   "cell_type": "code",
   "execution_count": null,
   "id": "18aa7ab5-bcce-41de-ae5b-c7485afda379",
   "metadata": {},
   "outputs": [],
   "source": [
    "pregel_sort_df = vertices_df.withColumn(\"value\", F.lit(1))\n",
    "\n",
    "for _ in range(5):\n",
    "    pregel_sort_df = pregel_superstep(\n",
    "        edges=edges_df,\n",
    "        values=pregel_sort_df,\n",
    "        message=col(\"value\"),\n",
    "        reducer=F.max,\n",
    "        computer=F.greatest(F.expr(\"message + 1\"), \"value\")\n",
    "    )\n",
    "\n",
    "pregel_sort_df.orderBy(\"value\").show()"
   ]
  },
  {
   "cell_type": "markdown",
   "id": "426daa41-d02c-4fd0-900c-670d61bf4f77",
   "metadata": {},
   "source": [
    "### PageRank"
   ]
  },
  {
   "cell_type": "code",
   "execution_count": null,
   "id": "2d768b0e-bcbd-445f-a472-3c5aaee46800",
   "metadata": {},
   "outputs": [],
   "source": [
    "in_deg = edges_df.groupBy(\"dst\").agg(F.count(F.lit(1)).alias(\"in_deg\")).withColumnRenamed(\"dst\", \"id\")\n",
    "out_deg = edges_df.groupBy(\"src\").agg(F.count(F.lit(1)).alias(\"out_deg\")).withColumnRenamed(\"src\", \"id\")\n",
    "deg_vert_df = vertices_df.join(in_deg, \"id\", \"left\").join(out_deg, \"id\", \"left\").select(\"id\", F.coalesce(\"in_deg\", F.lit(1)).alias(\"in_deg\"), F.coalesce(\"out_deg\", F.lit(1)).alias(\"out_deg\"))"
   ]
  },
  {
   "cell_type": "code",
   "execution_count": null,
   "id": "0235c078-2653-448c-8c05-6908bf81394d",
   "metadata": {},
   "outputs": [],
   "source": [
    "page_rank_result_df = deg_vert_df.withColumn(\"value\", F.lit(1))\n",
    "page_rank_result_df.show()"
   ]
  },
  {
   "cell_type": "code",
   "execution_count": null,
   "id": "39367666-fc2d-46a1-9ce7-bfca0cb0c96c",
   "metadata": {},
   "outputs": [],
   "source": [
    "for i in range(10):\n",
    "    page_rank_result_df = pregel_superstep(\n",
    "        edges=edges_df,\n",
    "        values=page_rank_result_df,\n",
    "        message=col(\"value\"),\n",
    "        reducer=F.sum,\n",
    "        computer=F.expr(\"(0.15 + 0.85 * nvl(message, value)) / out_deg\"),\n",
    "        out_deg=col(\"out_deg\")\n",
    "    )\n",
    "    if i % 5 == 0:\n",
    "        page_rank_result_df = page_rank_result_df.checkpoint()\n",
    "\n",
    "page_rank_result_df.show()"
   ]
  },
  {
   "cell_type": "code",
   "execution_count": null,
   "id": "8e8d96f3-5590-4b06-8fe3-860bcd630d73",
   "metadata": {},
   "outputs": [],
   "source": []
  }
 ],
 "metadata": {
  "kernelspec": {
   "display_name": "Python 3 (ipykernel)",
   "language": "python",
   "name": "python3"
  },
  "language_info": {
   "codemirror_mode": {
    "name": "ipython",
    "version": 3
   },
   "file_extension": ".py",
   "mimetype": "text/x-python",
   "name": "python",
   "nbconvert_exporter": "python",
   "pygments_lexer": "ipython3",
   "version": "3.11.4"
  }
 },
 "nbformat": 4,
 "nbformat_minor": 5
}
