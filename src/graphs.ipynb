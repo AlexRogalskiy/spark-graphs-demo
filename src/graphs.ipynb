{
 "cells": [
  {
   "cell_type": "code",
   "execution_count": null,
   "id": "5b3c3ef2-bd9c-4f1f-9cc9-1f83775601e1",
   "metadata": {},
   "outputs": [],
   "source": [
    "# df.repartition(2).select(F.spark_partition_id().alias(\"pid\")).collect()"
   ]
  },
  {
   "cell_type": "markdown",
   "id": "a1ee4c49-e0f2-40fa-abc9-305b4d579416",
   "metadata": {},
   "source": [
    "# Preparation"
   ]
  },
  {
   "cell_type": "code",
   "execution_count": null,
   "id": "e22ce32b-637c-4f4b-8d89-94260917ec69",
   "metadata": {},
   "outputs": [],
   "source": [
    "import sys\n",
    "\n",
    "from collections import namedtuple\n",
    "from typing import NamedTuple, Callable, TypeVar\n",
    "from enum import StrEnum, verify, UNIQUE\n",
    "from dataclasses import dataclass\n",
    "from random import randrange\n",
    "\n",
    "from pyspark.sql import SparkSession\n",
    "from pyspark.sql.functions import col\n",
    "from pyspark.sql import functions as F\n",
    "from pyspark.sql.dataframe import DataFrame, Column"
   ]
  },
  {
   "cell_type": "markdown",
   "id": "8b43d3b4-f610-44ce-ac8c-1bf73f2d7705",
   "metadata": {
    "jp-MarkdownHeadingCollapsed": true
   },
   "source": [
    "## Spark Configuration"
   ]
  },
  {
   "cell_type": "code",
   "execution_count": null,
   "id": "ecfb2bb9-9fc1-43b2-bdbf-e5292dcd4dfe",
   "metadata": {},
   "outputs": [],
   "source": [
    "spark = (\n",
    "    SparkSession\n",
    "        .builder\n",
    "        .appName(\"graphs\")\n",
    "        .master(\"local[4]\")\n",
    "        .config(\"spark.sql.warehouse.dir\", \"/tmp/warehouse\")\n",
    "        .getOrCreate()\n",
    ")\n",
    "sc = spark.sparkContext\n",
    "sc.setCheckpointDir(\"/tmp/plan/checkpoint\")"
   ]
  },
  {
   "cell_type": "markdown",
   "id": "7a135fcb-9a6d-4016-9418-961e1be2cdb1",
   "metadata": {},
   "source": [
    "## Miscellaneous Graph Functions and Classes"
   ]
  },
  {
   "cell_type": "code",
   "execution_count": null,
   "id": "1a28cf96-7349-49e1-9f10-9d2601673f20",
   "metadata": {},
   "outputs": [],
   "source": [
    "class Graph(NamedTuple):\n",
    "    \"\"\"The `Graph` class is the central class to express graphs\"\"\"\n",
    "    edges: DataFrame\n",
    "    vertices: DataFrame"
   ]
  },
  {
   "cell_type": "code",
   "execution_count": null,
   "id": "8348a7a8-7d2d-42c0-97a2-37b96283dad6",
   "metadata": {},
   "outputs": [],
   "source": [
    "@dataclass\n",
    "class Scope:\n",
    "    \"\"\"The `Scope` class abstarcts away inward, outward and all neighbours of a vertex\"\"\"\n",
    "    @verify(UNIQUE)\n",
    "    class Direction(StrEnum):\n",
    "        IN = \"IN\"\n",
    "        OUT = \"OUT\"\n",
    "        INOUT = \"INOUT\"\n",
    "\n",
    "    inward: DataFrame\n",
    "    outward: DataFrame\n",
    "    all_nbr: DataFrame\n",
    "\n",
    "    def __init__(self, edges: DataFrame):\n",
    "        def __wrapper(id: str, nbr: str, dir: 'Scope.Direction'):\n",
    "            return (\n",
    "                edges_df\n",
    "                    .withColumnRenamed(id, \"id\")\n",
    "                    .withColumnRenamed(nbr, \"nbr\")\n",
    "                    .withColumn(\"dir\", F.lit(dir))\n",
    "                    .select(\"id\", \"nbr\", \"weight\", \"dir\")\n",
    "            )\n",
    "        self.inward = __wrapper(\"dst\", \"src\", Scope.Direction.IN)\n",
    "        self.outward = __wrapper(\"src\", \"dst\", Scope.Direction.OUT)\n",
    "        self.all_nbr = self.outward.union(self.inward)\n",
    "\n",
    "    def __call__(self, dir: 'Scope.Direction') -> DataFrame:\n",
    "        match dir:\n",
    "            case Scope.Direction.IN:\n",
    "                return self.inward\n",
    "            case Scope.Direction.OUT:\n",
    "                return self.outward\n",
    "            case Scope.Direction.INOUT:\n",
    "                return self.all_nbr\n",
    "            case _:\n",
    "                raise ValueError(f\"Unknown {dir}\")\n",
    "\n",
    "    def __iter__(self):\n",
    "        yield self.inward\n",
    "        yield self.outward\n",
    "        yield self.all_nbr\n",
    "        "
   ]
  },
  {
   "cell_type": "code",
   "execution_count": null,
   "id": "a080069f-e2eb-48f3-8878-ab2453a70e14",
   "metadata": {},
   "outputs": [],
   "source": [
    "def graph(disjoint_sets_number: int = 1000, disjoint_set_vertices: int = 500, disjoint_set_edges: int = 1000) -> Graph:\n",
    "    \"\"\"Generates a graph\n",
    "        Parameters:\n",
    "            disjoint_sets_number (int) : total number of disjoint sets in the graph\n",
    "            disjoint_set_elements (int) : total number of vertices in a disjoint set in the graph\n",
    "            disjoint_set_edges (int) : total number of edges in a disjoint set in the graph\n",
    "\n",
    "        Returns:\n",
    "            Graph (Graph): a graph according to the specifications\n",
    "    \"\"\"\n",
    "    start = 0\n",
    "    end = disjoint_set_vertices\n",
    "    \n",
    "    disjoint_set_step = max(disjoint_set_vertices, 1000)\n",
    "    edges = []\n",
    "    for x in range(disjoint_sets_number):\n",
    "        edges += [ (x, x + 1, randrange(10)) for x in range(start, end) ] + [ (randrange(start, end), randrange(start, end), randrange(10)) for _ in range(disjoint_set_edges) ]\n",
    "        start += disjoint_set_step\n",
    "        end += disjoint_set_step\n",
    "\n",
    "    edges_df = (\n",
    "        spark\n",
    "            .createDataFrame(edges)\n",
    "            .toDF(\"src\", \"dst\", \"weight\")\n",
    "    )\n",
    "\n",
    "    vertices = set()\n",
    "\n",
    "    for x, y, _ in edges:\n",
    "        vertices.add(x)\n",
    "        vertices.add(y)\n",
    "\n",
    "    vertices_df = (\n",
    "        spark\n",
    "            .createDataFrame([(x,) for x in vertices])\n",
    "            .toDF(\"id\")\n",
    "    )\n",
    "    return Graph(edges_df, vertices_df)"
   ]
  },
  {
   "cell_type": "code",
   "execution_count": null,
   "id": "6642d491-3a1f-4e90-ac00-adc678801177",
   "metadata": {},
   "outputs": [],
   "source": [
    "def small_graph() -> Graph:\n",
    "    \"\"\"Generates a small graph for tests\"\"\"\n",
    "    verties = [ (x,) for x in range(1, 7) ]\n",
    "    verties_df = (\n",
    "        spark\n",
    "            .createDataFrame(verties)\n",
    "            .toDF(\"id\")\n",
    "    )\n",
    "    edges = [ (1, 2, 1), (1, 3, 5), (2, 3, 1), (3, 4, 1), (4, 5, 1), (6, 6, 1) ]\n",
    "    edges_df = (\n",
    "        spark\n",
    "            .createDataFrame(edges)\n",
    "            .toDF(\"src\", \"dst\", \"weight\")\n",
    "    )\n",
    "    return Graph(edges_df, verties_df)"
   ]
  },
  {
   "cell_type": "code",
   "execution_count": null,
   "id": "c0c05470-08b7-402f-876f-3cfb5f488a52",
   "metadata": {},
   "outputs": [],
   "source": [
    "def get_min_dist_init_df(values: DataFrame, start: int = 1) -> DataFrame:\n",
    "    return values.withColumn(\"dist\",\n",
    "        F.when(\n",
    "            col(\"id\") == F.lit(start),\n",
    "            F.lit(0)\n",
    "        )\n",
    "        .otherwise(F.lit(sys.maxsize // 2))\n",
    "    )"
   ]
  },
  {
   "cell_type": "code",
   "execution_count": null,
   "id": "89f06358-c29a-49b3-ae43-7e7050a01d46",
   "metadata": {},
   "outputs": [],
   "source": [
    "from datetime import datetime\n",
    "\n",
    "V = TypeVar(\"V\")\n",
    "def timer(handler: Callable[[], V]):\n",
    "    \"\"\"Timer\"\"\"\n",
    "    start = datetime.now()\n",
    "    result = handler()\n",
    "    print(datetime.now() - start)\n",
    "    return result"
   ]
  },
  {
   "cell_type": "markdown",
   "id": "612eb9e4-16c7-461e-b3c2-d1774840045e",
   "metadata": {},
   "source": [
    "# Connected Components"
   ]
  },
  {
   "cell_type": "markdown",
   "id": "7ce3b2ae-8ef4-4177-bc4a-9e1ca2e1239e",
   "metadata": {},
   "source": [
    "## Pregel"
   ]
  },
  {
   "cell_type": "markdown",
   "id": "421c667c-e2d3-4dea-9d75-4d82b4de7a00",
   "metadata": {
    "jp-MarkdownHeadingCollapsed": true
   },
   "source": [
    "### Implementation"
   ]
  },
  {
   "cell_type": "code",
   "execution_count": null,
   "id": "55201b8a-836f-4db7-86e4-c082dd329ac8",
   "metadata": {},
   "outputs": [],
   "source": [
    "def pregel_cc(edges: DataFrame, values: DataFrame, steps: int):\n",
    "    result_df = values\n",
    "    for i in range(steps):\n",
    "        result_df = (\n",
    "            edges.join(result_df, col(\"src\") == col(\"id\"))\n",
    "                .select(col(\"dst\").alias(\"id\"), col(\"value\").alias(\"message\"))\n",
    "                .groupby(col(\"id\")).agg(F.min(\"message\").alias(\"message\"))\n",
    "                .join(result_df, \"id\", \"right\")\n",
    "                .select(\"id\", F.least(\"message\", \"value\").alias(\"value\"))\n",
    "        )\n",
    "        if i % 5 == 0:\n",
    "            result_df = result_df.checkpoint()\n",
    "\n",
    "    return result_df"
   ]
  },
  {
   "cell_type": "markdown",
   "id": "56ba59de-c8bd-4472-aa29-ab056ea6413b",
   "metadata": {
    "jp-MarkdownHeadingCollapsed": true
   },
   "source": [
    "### Testing"
   ]
  },
  {
   "cell_type": "markdown",
   "id": "69b340ef-354a-4388-b374-a3a64ee0719e",
   "metadata": {},
   "source": [
    "#### Small Graph"
   ]
  },
  {
   "cell_type": "code",
   "execution_count": null,
   "id": "45126985-3b72-4878-8718-296e0cf71289",
   "metadata": {},
   "outputs": [],
   "source": [
    "edges_df, vertices_df = small_graph()"
   ]
  },
  {
   "cell_type": "code",
   "execution_count": null,
   "id": "292ff292-0da1-47fd-9263-0f8e3a4a3b5c",
   "metadata": {},
   "outputs": [],
   "source": [
    "edges_df.printSchema()"
   ]
  },
  {
   "cell_type": "code",
   "execution_count": null,
   "id": "5ad14501-972a-42a9-934b-3fca2ad1ded3",
   "metadata": {},
   "outputs": [],
   "source": [
    "vertices_df.printSchema()"
   ]
  },
  {
   "cell_type": "code",
   "execution_count": null,
   "id": "3542d784-45df-4ac0-ae9d-4b14db998bb0",
   "metadata": {},
   "outputs": [],
   "source": [
    "pregel_cc_df = vertices_df.withColumn(\"value\", col(\"id\"))\n",
    "pregel_cc_df = pregel_cc(edges_df, pregel_cc_df, 5)"
   ]
  },
  {
   "cell_type": "code",
   "execution_count": null,
   "id": "bc0ec4f7-6c83-4839-ba67-50865505adf2",
   "metadata": {},
   "outputs": [],
   "source": [
    "pregel_cc_df.show()"
   ]
  },
  {
   "cell_type": "markdown",
   "id": "1819a81a-1e10-4e31-956f-a88a9231a4d3",
   "metadata": {},
   "source": [
    "#### Large Graph"
   ]
  },
  {
   "cell_type": "code",
   "execution_count": null,
   "id": "d8b5ed68-f9a2-4818-a80f-5ecc524bccfa",
   "metadata": {},
   "outputs": [],
   "source": [
    "edges_df, vertices_df = graph()"
   ]
  },
  {
   "cell_type": "code",
   "execution_count": null,
   "id": "8de4d0fc-0476-4aaa-8645-2fb8d51e75e8",
   "metadata": {},
   "outputs": [],
   "source": [
    "edges_df.printSchema()"
   ]
  },
  {
   "cell_type": "code",
   "execution_count": null,
   "id": "bf814fdc-a55d-48ea-b742-305a6bc895e1",
   "metadata": {},
   "outputs": [],
   "source": [
    "vertices_df.printSchema()"
   ]
  },
  {
   "cell_type": "code",
   "execution_count": null,
   "id": "a1949a4b-8d06-47a7-9cc9-ae215e47124b",
   "metadata": {},
   "outputs": [],
   "source": [
    "pregel_cc_df = vertices_df.withColumn(\"value\", col(\"id\"))"
   ]
  },
  {
   "cell_type": "code",
   "execution_count": null,
   "id": "a84abf0e-b527-48cd-92b3-0dd827f6bb45",
   "metadata": {},
   "outputs": [],
   "source": [
    "pregel_cc_df = timer(lambda: pregel_cc(edges_df, pregel_cc_df, 15))"
   ]
  },
  {
   "cell_type": "markdown",
   "id": "d8cfb16c-33bf-422e-a415-0fbe6f06a922",
   "metadata": {},
   "source": [
    "The `cc_df` DataFrame is large, so only the total number of connected components is displayed"
   ]
  },
  {
   "cell_type": "code",
   "execution_count": null,
   "id": "ce311be8-790d-4d9c-83a1-cb0be0ee76ca",
   "metadata": {},
   "outputs": [],
   "source": [
    "pregel_cc_df.groupBy(\"value\").count().count()"
   ]
  },
  {
   "cell_type": "markdown",
   "id": "1399847c-c998-410e-bb79-85510752d867",
   "metadata": {
    "jp-MarkdownHeadingCollapsed": true
   },
   "source": [
    "## GraphLab"
   ]
  },
  {
   "cell_type": "markdown",
   "id": "67a0b25d-b844-4b76-98dd-cd738935f34d",
   "metadata": {},
   "source": [
    "### Implementation"
   ]
  },
  {
   "cell_type": "code",
   "execution_count": null,
   "id": "53106572-2af8-4acf-b577-55bed932e8d1",
   "metadata": {},
   "outputs": [],
   "source": [
    "def graphlab_cc(scope: DataFrame, values: DataFrame, steps: int):\n",
    "    result_df = values\n",
    "    for i in range(steps):\n",
    "        result_nbr_df = (\n",
    "            scope.alias(\"s\")\n",
    "                .join(result_df.alias(\"r\"), col(\"s.nbr\") == col(\"r.id\"))\n",
    "                .groupBy(col(\"s.id\"))\n",
    "                .agg(F.min(\"cc\").alias(\"acc_cc\"))\n",
    "        )\n",
    "\n",
    "        result_df = (\n",
    "            result_nbr_df.alias(\"a\")\n",
    "                .join(result_df.alias(\"r\"), \"id\", \"right\")\n",
    "                .select(\"id\", F.least(col(\"r.cc\"), col(\"a.acc_cc\")).alias(\"cc\"))\n",
    "        )\n",
    "\n",
    "        if i % 5 == 0:\n",
    "            result_df = result_df.checkpoint()\n",
    "    return result_df"
   ]
  },
  {
   "cell_type": "markdown",
   "id": "1b041caf-05de-48d9-bde5-5eb331a4871e",
   "metadata": {
    "jp-MarkdownHeadingCollapsed": true
   },
   "source": [
    "### Testing"
   ]
  },
  {
   "cell_type": "markdown",
   "id": "72b8ec2a-0110-413a-80c1-553d72283b67",
   "metadata": {},
   "source": [
    "#### Small Graph"
   ]
  },
  {
   "cell_type": "code",
   "execution_count": null,
   "id": "a95bd8d7-1354-46ef-88de-8660d6cbf680",
   "metadata": {},
   "outputs": [],
   "source": [
    "edges_df, vertices_df = small_graph()"
   ]
  },
  {
   "cell_type": "code",
   "execution_count": null,
   "id": "19cbfbc9-a919-444c-8bce-aaa9fcdcd557",
   "metadata": {},
   "outputs": [],
   "source": [
    "vertices_df.printSchema()"
   ]
  },
  {
   "cell_type": "code",
   "execution_count": null,
   "id": "1562b2d7-a5a8-4d5e-8480-77c7e489a74a",
   "metadata": {},
   "outputs": [],
   "source": [
    "edges_df.printSchema()"
   ]
  },
  {
   "cell_type": "code",
   "execution_count": null,
   "id": "bf69fa4f-ea29-46bf-91c7-44ad912b48b6",
   "metadata": {},
   "outputs": [],
   "source": [
    "scope_df = Scope(edges_df)"
   ]
  },
  {
   "cell_type": "code",
   "execution_count": null,
   "id": "c05c3556-2091-41d1-9604-8cfd1746e0d7",
   "metadata": {},
   "outputs": [],
   "source": [
    "gl_cc_result_df = vertices_df.withColumn(\"cc\", col(\"id\"))"
   ]
  },
  {
   "cell_type": "code",
   "execution_count": null,
   "id": "fe8df1f7-5d4b-4896-a16b-ae05c58cd481",
   "metadata": {},
   "outputs": [],
   "source": [
    "gl_cc_result_df = graphlab_cc(scope_df.all_nbr, gl_cc_result_df, 5)"
   ]
  },
  {
   "cell_type": "code",
   "execution_count": null,
   "id": "ebfb195a-96d4-4cba-a50f-59adda61fab1",
   "metadata": {},
   "outputs": [],
   "source": [
    "gl_cc_result_df.show()"
   ]
  },
  {
   "cell_type": "code",
   "execution_count": null,
   "id": "67b38058-f6b7-44bf-95cf-3d9b17806507",
   "metadata": {},
   "outputs": [],
   "source": [
    "gl_cc_result_df.groupBy(\"cc\").count().count()"
   ]
  },
  {
   "cell_type": "markdown",
   "id": "884c1978-ae5e-4bb3-9a19-164e12f2c7b4",
   "metadata": {
    "jp-MarkdownHeadingCollapsed": true
   },
   "source": [
    "#### Large Graph"
   ]
  },
  {
   "cell_type": "code",
   "execution_count": null,
   "id": "2e199b49-341e-493f-a9db-a49f0475607f",
   "metadata": {},
   "outputs": [],
   "source": [
    "edges_df, vertices_df = graph()"
   ]
  },
  {
   "cell_type": "code",
   "execution_count": null,
   "id": "3420aa14-9465-4fbf-ac7d-1597a0428795",
   "metadata": {},
   "outputs": [],
   "source": [
    "vertices_df.printSchema()"
   ]
  },
  {
   "cell_type": "code",
   "execution_count": null,
   "id": "efb9840a-b0b3-41e2-a8f3-e6781cd0b993",
   "metadata": {},
   "outputs": [],
   "source": [
    "edges_df.printSchema()"
   ]
  },
  {
   "cell_type": "code",
   "execution_count": null,
   "id": "9b625ac3-e06f-4bc6-88bf-1092ff263708",
   "metadata": {},
   "outputs": [],
   "source": [
    "scope_df = Scope(edges_df)"
   ]
  },
  {
   "cell_type": "code",
   "execution_count": null,
   "id": "d9ff6763-4f5a-4919-8590-eb60031b8d6f",
   "metadata": {},
   "outputs": [],
   "source": [
    "gl_cc_result_df = vertices_df.withColumn(\"cc\", col(\"id\"))"
   ]
  },
  {
   "cell_type": "code",
   "execution_count": null,
   "id": "509f1bd6-97de-4c34-a96a-5595c3b6132a",
   "metadata": {},
   "outputs": [],
   "source": [
    "gl_cc_result_df = timer(lambda: graphlab_cc(scope_df.all_nbr, gl_cc_result_df, 8))"
   ]
  },
  {
   "cell_type": "code",
   "execution_count": null,
   "id": "ec7e3807-5819-4a03-8b94-adcfbc2d4354",
   "metadata": {},
   "outputs": [],
   "source": [
    "gl_cc_result_df.groupBy(\"cc\").count().count()"
   ]
  },
  {
   "cell_type": "markdown",
   "id": "770be65b-edaa-42d2-bb86-aabf736e245c",
   "metadata": {
    "jp-MarkdownHeadingCollapsed": true
   },
   "source": [
    "## PowerGraph"
   ]
  },
  {
   "cell_type": "markdown",
   "id": "52b1b435-21fb-41bd-a6cf-0416388dd992",
   "metadata": {},
   "source": [
    "### Implementation"
   ]
  },
  {
   "cell_type": "code",
   "execution_count": null,
   "id": "ee3eca2a-1564-4f93-8b34-71a0df503903",
   "metadata": {},
   "outputs": [],
   "source": [
    "def powergraph_cc(scope: DataFrame, values: DataFrame, steps: int):\n",
    "    result_df = values\n",
    "\n",
    "    for i in range(steps):\n",
    "        gather_df = (\n",
    "            scope.where(\"id != nbr\").alias(\"s\")\n",
    "                .join(result_df.alias(\"r\"), col(\"r.id\") == col(\"s.nbr\"))\n",
    "                .select(col(\"s.id\"), col(\"cc\").alias(\"nbr_cc\"))\n",
    "        )\n",
    "        sum_df = (\n",
    "            gather_df\n",
    "                .groupBy(\"id\")\n",
    "                .agg(F.min(\"nbr_cc\").alias(\"acc_cc\"))\n",
    "        )\n",
    "        apply_df = (\n",
    "            sum_df\n",
    "                .join(result_df, \"id\", \"right\")\n",
    "                .select(col(\"id\"), F.least(\"acc_cc\", \"cc\").alias(\"cc\"))\n",
    "        )\n",
    "        scatter_df = apply_df\n",
    "        result_df = scatter_df\n",
    "        if i % 5 == 0:\n",
    "            result_df = result_df.checkpoint()\n",
    "\n",
    "    return result_df"
   ]
  },
  {
   "cell_type": "markdown",
   "id": "681c1057-81ed-47d4-917c-63ccf1c10043",
   "metadata": {},
   "source": [
    "### Testing"
   ]
  },
  {
   "cell_type": "markdown",
   "id": "b998b1e8-7061-4d6b-b57d-381199dcc448",
   "metadata": {},
   "source": [
    "#### Small Graph"
   ]
  },
  {
   "cell_type": "code",
   "execution_count": null,
   "id": "cb849246-d1c3-4bc3-9b32-8d9c3ecc3106",
   "metadata": {},
   "outputs": [],
   "source": [
    "edges_df, vertices_df = small_graph()"
   ]
  },
  {
   "cell_type": "code",
   "execution_count": null,
   "id": "4f473a40-6695-4286-ac20-69fcc885387d",
   "metadata": {},
   "outputs": [],
   "source": [
    "vertices_df.printSchema()"
   ]
  },
  {
   "cell_type": "code",
   "execution_count": null,
   "id": "40cd3aaf-7bda-4c5c-9b4f-835c47b1f66a",
   "metadata": {},
   "outputs": [],
   "source": [
    "edges_df.printSchema()"
   ]
  },
  {
   "cell_type": "code",
   "execution_count": null,
   "id": "fa607b9a-8180-4f05-9604-3d06a6244f0d",
   "metadata": {},
   "outputs": [],
   "source": [
    "scope = Scope(edges_df)"
   ]
  },
  {
   "cell_type": "code",
   "execution_count": null,
   "id": "92707ee3-b641-43ec-9cc8-340154b6df40",
   "metadata": {},
   "outputs": [],
   "source": [
    "pg_cc_result_df = vertices_df.select(col(\"id\"), col(\"id\").alias(\"cc\"))\n",
    "pg_cc_result_df = powergraph_cc(scope.all_nbr, pg_cc_result_df, 5)"
   ]
  },
  {
   "cell_type": "code",
   "execution_count": null,
   "id": "87ba36e9",
   "metadata": {},
   "outputs": [],
   "source": [
    "pg_cc_result_df.show()"
   ]
  },
  {
   "cell_type": "markdown",
   "id": "8ae74e67-8353-476a-86c9-9119229cdf89",
   "metadata": {},
   "source": [
    "#### Large Graph"
   ]
  },
  {
   "cell_type": "code",
   "execution_count": null,
   "id": "b6206dd9",
   "metadata": {},
   "outputs": [],
   "source": [
    "edges_df, vertices_df = graph()"
   ]
  },
  {
   "cell_type": "code",
   "execution_count": null,
   "id": "64883616",
   "metadata": {},
   "outputs": [],
   "source": [
    "vertices_df.printSchema()"
   ]
  },
  {
   "cell_type": "code",
   "execution_count": null,
   "id": "87c48bed",
   "metadata": {},
   "outputs": [],
   "source": [
    "edges_df.printSchema()"
   ]
  },
  {
   "cell_type": "code",
   "execution_count": null,
   "id": "6067be0e",
   "metadata": {},
   "outputs": [],
   "source": [
    "scope = Scope(edges_df)"
   ]
  },
  {
   "cell_type": "code",
   "execution_count": null,
   "id": "7b9508c6",
   "metadata": {},
   "outputs": [],
   "source": [
    "pg_cc_result_df = vertices_df.select(col(\"id\"), col(\"id\").alias(\"cc\"))\n",
    "pg_cc_result_df = timer(lambda: powergraph_cc(scope.all_nbr, pg_cc_result_df, 8))"
   ]
  },
  {
   "cell_type": "code",
   "execution_count": null,
   "id": "1e9e3ebb",
   "metadata": {},
   "outputs": [],
   "source": [
    "pg_cc_result_df.groupBy(\"cc\").count().count()"
   ]
  },
  {
   "cell_type": "markdown",
   "id": "a716f07c-731c-4b6f-b12d-632baa4d796c",
   "metadata": {},
   "source": [
    "# Single Source Shortest Path"
   ]
  },
  {
   "cell_type": "markdown",
   "id": "ee5aa075-e037-4a16-b242-38289649784c",
   "metadata": {},
   "source": [
    "## Pregel"
   ]
  },
  {
   "cell_type": "markdown",
   "id": "94915b87-1f68-4858-9aeb-4f5104f82209",
   "metadata": {},
   "source": [
    "### Implementation"
   ]
  },
  {
   "cell_type": "code",
   "execution_count": null,
   "id": "893bfa22-4320-44d4-826a-dcaaad6789d5",
   "metadata": {},
   "outputs": [],
   "source": [
    "def pregel_min_dist(edges: DataFrame, values: DataFrame, steps: int):\n",
    "    result_df = values\n",
    "    for i in range(steps):\n",
    "        result_df = (\n",
    "            edges.join(result_df, col(\"src\") == col(\"id\"))\n",
    "                .select(col(\"dst\").alias(\"id\"), F.expr(\"dist + weight\").alias(\"message\"))\n",
    "                .groupby(col(\"id\")).agg(F.min(\"message\").alias(\"message\"))\n",
    "                .join(result_df, \"id\", \"right\")\n",
    "                .select(\"id\", F.least(\"message\", \"dist\").alias(\"dist\"))\n",
    "        )\n",
    "        if i % 5 == 0:\n",
    "            result_df = result_df.checkpoint()\n",
    "\n",
    "    return result_df"
   ]
  },
  {
   "cell_type": "markdown",
   "id": "86cd2df4-6a19-4e7e-b420-374924fcb00f",
   "metadata": {},
   "source": [
    "### Testing"
   ]
  },
  {
   "cell_type": "markdown",
   "id": "88c77255-1c7b-42c6-a725-2594ffa8197e",
   "metadata": {},
   "source": [
    "#### Small Graph"
   ]
  },
  {
   "cell_type": "code",
   "execution_count": null,
   "id": "c8a06c72-a627-4624-8b1f-4cae7d348686",
   "metadata": {},
   "outputs": [],
   "source": [
    "edges_df, vertices_df = small_graph()"
   ]
  },
  {
   "cell_type": "code",
   "execution_count": null,
   "id": "cda713e8-f834-4dc1-b3bb-5ad89ac96059",
   "metadata": {},
   "outputs": [],
   "source": [
    "vertices_df.printSchema()"
   ]
  },
  {
   "cell_type": "code",
   "execution_count": null,
   "id": "aaef37de-e8fa-480a-9f89-a82ef3502eee",
   "metadata": {},
   "outputs": [],
   "source": [
    "edges_df.printSchema()"
   ]
  },
  {
   "cell_type": "code",
   "execution_count": null,
   "id": "dfff5e32-8c24-4324-816d-cd3a7a166ad7",
   "metadata": {},
   "outputs": [],
   "source": [
    "min_dist_df = get_min_dist_init_df(vertices_df, start=1)\n",
    "min_dist_df = pregel_min_dist(edges_df, min_dist_df, 5)"
   ]
  },
  {
   "cell_type": "code",
   "execution_count": null,
   "id": "79e83f4b-5b8d-4f74-9552-02e2ca01c4ee",
   "metadata": {},
   "outputs": [],
   "source": [
    "min_dist_df.show()"
   ]
  },
  {
   "cell_type": "markdown",
   "id": "05c015be-3b8c-4aac-94c2-8a8f74be6fd4",
   "metadata": {},
   "source": [
    "#### Large Graph"
   ]
  },
  {
   "cell_type": "code",
   "execution_count": null,
   "id": "63c57bec-323d-4116-aaac-6bd4db11cedd",
   "metadata": {},
   "outputs": [],
   "source": [
    "disjoint_set_vertices=500\n",
    "edges_df, vertices_df = graph(disjoint_set_vertices)"
   ]
  },
  {
   "cell_type": "code",
   "execution_count": null,
   "id": "7804912c-d5a1-4541-9197-7f0525c8619c",
   "metadata": {},
   "outputs": [],
   "source": [
    "vertices_df.printSchema()"
   ]
  },
  {
   "cell_type": "code",
   "execution_count": null,
   "id": "5b6b60fe-3d77-4e86-a1b2-d8526c8630c0",
   "metadata": {},
   "outputs": [],
   "source": [
    "edges_df.printSchema()"
   ]
  },
  {
   "cell_type": "code",
   "execution_count": null,
   "id": "241ee3c5-b0d1-4016-8628-39ec8c3480aa",
   "metadata": {},
   "outputs": [],
   "source": [
    "min_dist_df = get_min_dist_init_df(vertices_df, start=1)\n",
    "min_dist_df = timer(lambda: pregel_min_dist(edges_df, min_dist_df, 12))"
   ]
  },
  {
   "cell_type": "markdown",
   "id": "f66933d5-4eb5-4030-b005-ba30d218e6f1",
   "metadata": {},
   "source": [
    "The node `1` has paths to only the nodes from the same disjoint set, the other disjoint sets are not accessible, hence the min distance to all of them is `INF (sys.maxsize)`"
   ]
  },
  {
   "cell_type": "code",
   "execution_count": null,
   "id": "75066b4f-6181-4fdd-9bb0-6c5673fe9444",
   "metadata": {},
   "outputs": [],
   "source": [
    "result_df = (\n",
    "    min_dist_df\n",
    "        .where(col(\"id\") > disjoint_set_vertices)\n",
    "        .groupBy(\"dist\")\n",
    "        .count()\n",
    ")\n",
    "timer(lambda: result_df.show())"
   ]
  },
  {
   "cell_type": "markdown",
   "id": "2d5538e8-7622-429b-9abb-79b80212def8",
   "metadata": {},
   "source": [
    "## GraphLab"
   ]
  },
  {
   "cell_type": "markdown",
   "id": "9dd77421-21a7-474a-932f-e09976e028bd",
   "metadata": {},
   "source": [
    "### Implementation"
   ]
  },
  {
   "cell_type": "code",
   "execution_count": null,
   "id": "1fa670a6-dc3d-4f82-b598-b2a0c438765e",
   "metadata": {},
   "outputs": [],
   "source": [
    "def graphlab_min_dist(scope: DataFrame, values: DataFrame, steps: int) -> DataFrame:\n",
    "    min_dist_df = values\n",
    "\n",
    "    for i in range(steps):\n",
    "        min_dist_nbr_df = (\n",
    "            scope.alias(\"s\")\n",
    "                .join(min_dist_df.alias(\"r\"), col(\"s.nbr\") == col(\"r.id\"))\n",
    "                .groupBy(col(\"s.id\"))\n",
    "                .agg(F.min(F.expr(\"dist + weight\")).alias(\"acc_min_dist\"))\n",
    "        )\n",
    "\n",
    "        min_dist_df = (\n",
    "            min_dist_nbr_df\n",
    "                .join(min_dist_df, \"id\", \"right\")\n",
    "                .select(\"id\", F.least(col(\"dist\"), col(\"acc_min_dist\")).alias(\"dist\"))\n",
    "        )\n",
    "        if i % 5 == 0:\n",
    "            min_dist_df = min_dist_df.checkpoint()\n",
    "\n",
    "    return min_dist_df"
   ]
  },
  {
   "cell_type": "markdown",
   "id": "9789f52a-40de-4a7b-bc87-ed907b3c2836",
   "metadata": {},
   "source": [
    "### Testing"
   ]
  },
  {
   "cell_type": "markdown",
   "id": "82d4809a-a670-414b-93d0-a5f597c1e6a4",
   "metadata": {
    "jp-MarkdownHeadingCollapsed": true
   },
   "source": [
    "#### Small Graph"
   ]
  },
  {
   "cell_type": "code",
   "execution_count": null,
   "id": "6da707b8-6d9a-4cfd-bbcd-7250c8e69e1e",
   "metadata": {},
   "outputs": [],
   "source": [
    "edges_df, vertices_df = small_graph()"
   ]
  },
  {
   "cell_type": "code",
   "execution_count": null,
   "id": "6ff8d7a3-67c4-4e03-804d-2b5ebc105375",
   "metadata": {},
   "outputs": [],
   "source": [
    "vertices_df.printSchema()"
   ]
  },
  {
   "cell_type": "code",
   "execution_count": null,
   "id": "3e971d25-d75c-4e68-9f0e-f00892a51877",
   "metadata": {},
   "outputs": [],
   "source": [
    "edges_df.printSchema()"
   ]
  },
  {
   "cell_type": "code",
   "execution_count": null,
   "id": "de1d42df-1a46-4c1e-8230-abae36a78cef",
   "metadata": {},
   "outputs": [],
   "source": [
    "scope = Scope(edges_df)"
   ]
  },
  {
   "cell_type": "code",
   "execution_count": null,
   "id": "c9d88c6e-cb34-4028-856c-a1cc20264eb8",
   "metadata": {},
   "outputs": [],
   "source": [
    "min_dist_df = get_min_dist_init_df(vertices_df, start=1)\n",
    "min_dist_df = graphlab_min_dist(scope.inward, min_dist_df, steps=5)"
   ]
  },
  {
   "cell_type": "code",
   "execution_count": null,
   "id": "f396f24b-afb1-427a-86ed-e4d3a3ff761f",
   "metadata": {},
   "outputs": [],
   "source": [
    "min_dist_df.show()"
   ]
  },
  {
   "cell_type": "markdown",
   "id": "a6919038-19e0-4894-b4b4-79aac1b239eb",
   "metadata": {},
   "source": [
    "#### Large Graph"
   ]
  },
  {
   "cell_type": "code",
   "execution_count": null,
   "id": "0943ef92-df71-4d78-b4be-a24de95741e7",
   "metadata": {},
   "outputs": [],
   "source": [
    "disjoint_set_vertices = 500\n",
    "edges_df, vertices_df = graph(disjoint_set_vertices)"
   ]
  },
  {
   "cell_type": "code",
   "execution_count": null,
   "id": "c5f61d23-df30-464c-b8d1-ab2a3d31ea29",
   "metadata": {},
   "outputs": [],
   "source": [
    "vertices_df.printSchema()"
   ]
  },
  {
   "cell_type": "code",
   "execution_count": null,
   "id": "58d93c45-e6c7-445d-896c-269df13c8483",
   "metadata": {},
   "outputs": [],
   "source": [
    "edges_df.printSchema()"
   ]
  },
  {
   "cell_type": "code",
   "execution_count": null,
   "id": "91ddb4b2-ddb4-427b-9155-1558ab6bc78d",
   "metadata": {},
   "outputs": [],
   "source": [
    "scope = Scope(edges_df)"
   ]
  },
  {
   "cell_type": "code",
   "execution_count": null,
   "id": "d89ef002-eee6-45b3-a5cb-87b796a1a027",
   "metadata": {},
   "outputs": [],
   "source": [
    "min_dist_df = get_min_dist_init_df(vertices_df, start=1)\n",
    "min_dist_df = timer(lambda: graphlab_min_dist(scope.inward, min_dist_df, steps=12))"
   ]
  },
  {
   "cell_type": "markdown",
   "id": "b6ec27e6-0115-429b-9a7c-23d2e73acc47",
   "metadata": {},
   "source": [
    "All vertices from the same disjoint set as the vertex `1` should have a distance less that `INF (sys.maxsize)`"
   ]
  },
  {
   "cell_type": "code",
   "execution_count": null,
   "id": "2b63a73f-3022-4892-b315-6924b92d4066",
   "metadata": {},
   "outputs": [],
   "source": [
    "df = min_dist_df.where(col(\"id\") < disjoint_set_vertices).where(col(\"dist\") < sys.maxsize)\n",
    "timer(lambda: df.count())"
   ]
  },
  {
   "cell_type": "markdown",
   "id": "976978cd-39cf-4c9c-9057-cfb995381c87",
   "metadata": {},
   "source": [
    "All vertices from the other disjoint sets comparing to the vertex `1` should have the minimum distance exactly `INF (sys.maxsize)`"
   ]
  },
  {
   "cell_type": "code",
   "execution_count": null,
   "id": "8a78457a-99f9-47d4-82da-241a4ac48bbe",
   "metadata": {},
   "outputs": [],
   "source": [
    "df = min_dist_df.where(col(\"id\") > disjoint_set_vertices).groupby(\"dist\").count()\n",
    "timer(lambda: df.show())"
   ]
  },
  {
   "cell_type": "markdown",
   "id": "facd7c1c-57bd-40e5-b762-ea26a0754c70",
   "metadata": {},
   "source": [
    "## PowerGraph"
   ]
  },
  {
   "cell_type": "markdown",
   "id": "067a33fc-a460-493a-9234-df6d445f807b",
   "metadata": {},
   "source": [
    "### Implementation"
   ]
  },
  {
   "cell_type": "code",
   "execution_count": null,
   "id": "cf0ad36d-76ba-4e95-a0de-88274a32f26b",
   "metadata": {},
   "outputs": [],
   "source": [
    "def powergraph_min_dist(scope: DataFrame, values: DataFrame, steps: int):\n",
    "    result_df = values\n",
    "\n",
    "    for i in range(steps):\n",
    "        gather_df = (\n",
    "            scope.where(\"id != nbr\").alias(\"s\")\n",
    "                .join(result_df.alias(\"r\"), col(\"r.id\") == col(\"s.nbr\"))\n",
    "                .select(col(\"s.id\"), F.expr(\"r.dist + s.weight\").alias(\"dist\"))\n",
    "        )\n",
    "        sum_df = (\n",
    "            gather_df\n",
    "                .groupBy(\"id\")\n",
    "                .agg(F.min(\"dist\").alias(\"acc_dist\"))\n",
    "        )\n",
    "        apply_df = (\n",
    "            sum_df\n",
    "                .join(result_df, \"id\", \"right\")\n",
    "                .select(col(\"id\"), F.least(\"acc_dist\", \"dist\").alias(\"dist\"))\n",
    "        )\n",
    "        scatter_df = apply_df\n",
    "        result_df = scatter_df\n",
    "        if i % 5 == 0:\n",
    "            result_df = result_df.checkpoint()\n",
    "\n",
    "    return result_df"
   ]
  },
  {
   "cell_type": "markdown",
   "id": "6e51d9de-ec75-4f3e-96e3-1758fc9ebbad",
   "metadata": {},
   "source": [
    "### Testing"
   ]
  },
  {
   "cell_type": "markdown",
   "id": "7b596a15-6c78-4d71-beeb-4990b4dd8af6",
   "metadata": {},
   "source": [
    "#### Small Graph"
   ]
  },
  {
   "cell_type": "code",
   "execution_count": null,
   "id": "59d76c42-1e72-41d0-836a-f6ea7b0dc14e",
   "metadata": {},
   "outputs": [],
   "source": [
    "edges_df, vertices_df = small_graph()"
   ]
  },
  {
   "cell_type": "code",
   "execution_count": null,
   "id": "a5fd13af-3eb9-41fd-9bfa-16e3bb34cda4",
   "metadata": {},
   "outputs": [],
   "source": [
    "vertices_df.printSchema()"
   ]
  },
  {
   "cell_type": "code",
   "execution_count": null,
   "id": "7f44c52f-288e-4d22-9c17-aabcf54a3539",
   "metadata": {},
   "outputs": [],
   "source": [
    "edges_df.printSchema()"
   ]
  },
  {
   "cell_type": "code",
   "execution_count": null,
   "id": "dd5e4864-2f22-4fb6-9af4-29aa40f37258",
   "metadata": {},
   "outputs": [],
   "source": [
    "scope = Scope(edges_df)"
   ]
  },
  {
   "cell_type": "code",
   "execution_count": null,
   "id": "1d3c494f-37d7-4bff-bce6-67136b3e330f",
   "metadata": {},
   "outputs": [],
   "source": [
    "pg_min_dist_result_df = get_min_dist_init_df(vertices_df, start=1)\n",
    "pg_min_dist_result_df = powergraph_min_dist(scope.inward, pg_min_dist_result_df, steps=5)"
   ]
  },
  {
   "cell_type": "code",
   "execution_count": null,
   "id": "26d01bd3-8824-4ac4-b029-dbc4e5d4449c",
   "metadata": {},
   "outputs": [],
   "source": [
    "pg_min_dist_result_df.show()"
   ]
  },
  {
   "cell_type": "markdown",
   "id": "2c8b20db-7d5a-48be-abb3-9f53268e76bf",
   "metadata": {},
   "source": [
    "#### Large Graph"
   ]
  },
  {
   "cell_type": "code",
   "execution_count": null,
   "id": "a96b4c55-a23c-4cd0-81a5-608edcbfd42a",
   "metadata": {},
   "outputs": [],
   "source": [
    "disjoint_set_vertices = 500\n",
    "edges_df, vertices_df = graph(disjoint_set_vertices)"
   ]
  },
  {
   "cell_type": "code",
   "execution_count": null,
   "id": "65685fff-8078-4e72-942e-84d7e0149b54",
   "metadata": {},
   "outputs": [],
   "source": [
    "vertices_df.printSchema()"
   ]
  },
  {
   "cell_type": "code",
   "execution_count": null,
   "id": "d153986c-538c-42f2-bfd3-494e884a049c",
   "metadata": {},
   "outputs": [],
   "source": [
    "edges_df.printSchema()"
   ]
  },
  {
   "cell_type": "code",
   "execution_count": null,
   "id": "203b9176-f74a-49b4-aa40-6fd3d00b55c9",
   "metadata": {},
   "outputs": [],
   "source": [
    "scope = Scope(edges_df)"
   ]
  },
  {
   "cell_type": "code",
   "execution_count": null,
   "id": "deab96ee-9da9-42a0-9702-0fd9406427cf",
   "metadata": {},
   "outputs": [],
   "source": [
    "pg_min_dist_result_df = get_min_dist_init_df(vertices_df, start=1)\n",
    "pg_min_dist_result_df = timer(lambda: powergraph_min_dist(scope.inward, pg_min_dist_result_df, steps=12))"
   ]
  },
  {
   "cell_type": "markdown",
   "id": "52e959ac-9f7a-4f00-8183-e3fa2c4567c6",
   "metadata": {},
   "source": [
    "All vertices from the same disjoint set as the vertex `1` should have a distance less that `INF (sys.maxsize)`"
   ]
  },
  {
   "cell_type": "code",
   "execution_count": null,
   "id": "d65959c6-331d-4233-b267-ce03b8a5732d",
   "metadata": {},
   "outputs": [],
   "source": [
    "df = pg_min_dist_result_df.where(col(\"id\") < disjoint_set_vertices).where(col(\"dist\") < sys.maxsize)\n",
    "timer(lambda: df.count())"
   ]
  },
  {
   "cell_type": "markdown",
   "id": "c5f9d13a-aa74-4ae6-b789-3b9a40b9b858",
   "metadata": {},
   "source": [
    "All vertices from the other disjoint sets comparing to the vertex `1` should have the minimum distance exactly `INF (sys.maxsize)`"
   ]
  },
  {
   "cell_type": "code",
   "execution_count": null,
   "id": "d105028a-1d05-4499-bfa3-1f2a33246095",
   "metadata": {},
   "outputs": [],
   "source": [
    "df = pg_min_dist_result_df.where(col(\"id\") > disjoint_set_vertices).groupby(\"dist\").count()\n",
    "timer(lambda: df.show())"
   ]
  },
  {
   "cell_type": "markdown",
   "id": "5c3f3202-bb4a-4055-8b11-a001d7399a7b",
   "metadata": {},
   "source": [
    "# Топологическая сортировка - Topological Sort"
   ]
  },
  {
   "cell_type": "markdown",
   "id": "8b452cc2-87a2-4c89-a716-f46f12d53412",
   "metadata": {
    "jp-MarkdownHeadingCollapsed": true
   },
   "source": [
    "## Pregel"
   ]
  },
  {
   "cell_type": "markdown",
   "id": "e6797f6a-8e32-4053-8eb6-54a30a6bf275",
   "metadata": {},
   "source": [
    "### Подготовка данных"
   ]
  },
  {
   "cell_type": "code",
   "execution_count": null,
   "id": "026fb104-08f2-4366-b548-9fe9f53c00a8",
   "metadata": {},
   "outputs": [],
   "source": [
    "edges_df, vertices_df = small_graph()"
   ]
  },
  {
   "cell_type": "code",
   "execution_count": null,
   "id": "983eb0a1-9203-4528-95f4-4c84f3734eaf",
   "metadata": {},
   "outputs": [],
   "source": [
    "vertices_df.printSchema()"
   ]
  },
  {
   "cell_type": "code",
   "execution_count": null,
   "id": "eee6e865-99d4-449b-ae09-870245b9f25a",
   "metadata": {},
   "outputs": [],
   "source": [
    "edges_df.printSchema()"
   ]
  },
  {
   "cell_type": "markdown",
   "id": "c0dc3a51-9333-48a4-8145-79bf3b730ef7",
   "metadata": {
    "jp-MarkdownHeadingCollapsed": true
   },
   "source": [
    "### Реализация"
   ]
  },
  {
   "cell_type": "code",
   "execution_count": null,
   "id": "7fbec34a-e61a-4a95-9b05-f83dd6535129",
   "metadata": {},
   "outputs": [],
   "source": [
    "sorted_df = vertices_df.withColumn(\"ord\", F.lit(1))\n",
    "\n",
    "for _ in range(5):\n",
    "    sorted_df = (\n",
    "        edges_df.where(col(\"src\") != col(\"dst\"))\n",
    "            .join(sorted_df, col(\"src\") == col(\"id\"))\n",
    "            .select(col(\"dst\").alias(\"id\"), col(\"ord\").alias(\"message\"))\n",
    "            .groupby(col(\"id\")).agg(F.max(\"message\").alias(\"message\"))\n",
    "            .join(sorted_df, \"id\", \"right\")\n",
    "            .select(\"id\", F.greatest(F.expr(\"message + 1\"), \"ord\").alias(\"ord\"))\n",
    "    )\n",
    "\n",
    "sorted_df.orderBy(\"ord\").show()"
   ]
  },
  {
   "cell_type": "markdown",
   "id": "1b805410-39aa-4b9e-83df-53aa0bce9866",
   "metadata": {
    "jp-MarkdownHeadingCollapsed": true
   },
   "source": [
    "## GraphLab"
   ]
  },
  {
   "cell_type": "markdown",
   "id": "39561a9f-2c35-4f28-9e8b-dc623c6ac11d",
   "metadata": {},
   "source": [
    "### Подготовка данных"
   ]
  },
  {
   "cell_type": "code",
   "execution_count": null,
   "id": "14a08f79-b9dc-4295-9778-49e93d8a194f",
   "metadata": {},
   "outputs": [],
   "source": [
    "edges_df, vertices_df = small_graph()"
   ]
  },
  {
   "cell_type": "code",
   "execution_count": null,
   "id": "76a3792f-e4ec-4666-a834-577fda316943",
   "metadata": {},
   "outputs": [],
   "source": [
    "vertices_df.printSchema()"
   ]
  },
  {
   "cell_type": "code",
   "execution_count": null,
   "id": "25830e45-12e7-40bd-8872-175c4da9c6cf",
   "metadata": {},
   "outputs": [],
   "source": [
    "edges_df.printSchema()"
   ]
  },
  {
   "cell_type": "code",
   "execution_count": null,
   "id": "4399a0b6-7400-4f40-bf39-4fb60bb620e5",
   "metadata": {},
   "outputs": [],
   "source": [
    "scope = Scope(edges_df)"
   ]
  },
  {
   "cell_type": "markdown",
   "id": "54148128-7aca-4b1e-873f-24a10c702750",
   "metadata": {
    "jp-MarkdownHeadingCollapsed": true
   },
   "source": [
    "### Реализация I"
   ]
  },
  {
   "cell_type": "code",
   "execution_count": null,
   "id": "7b37e890-722e-4c5f-96e3-35ad7f83f65a",
   "metadata": {},
   "outputs": [],
   "source": [
    "sorted_df = vertices_df.withColumn(\"ord\", F.lit(1))\n",
    "inward = scope.inward\n",
    "\n",
    "for _ in range(5):\n",
    "    sorted_nbr_df = (\n",
    "        inward.where(\"src != dst\").alias(\"s\")\n",
    "            .join(sorted_df.alias(\"r\"), col(\"s.nbr\") == col(\"r.id\"))\n",
    "            .select(col(\"s.id\"), F.col(\"r.ord\"))\n",
    "            .groupBy(col(\"s.id\"))\n",
    "            .agg(F.max(\"ord\").alias(\"acc_ord\"))\n",
    "    )\n",
    "    \n",
    "    sorted_df = (\n",
    "        sorted_nbr_df.alias(\"a\")\n",
    "            .join(sorted_df.alias(\"r\"), \"id\", \"right\")\n",
    "            .select(\"id\", F.greatest(col(\"r.ord\"), F.expr(\"acc_ord + 1\")).alias(\"ord\"))\n",
    "    )\n",
    "\n",
    "sorted_df.orderBy(\"ord\").show()"
   ]
  },
  {
   "cell_type": "markdown",
   "id": "872a4f28-73e0-4533-954f-96ea00826e9e",
   "metadata": {
    "jp-MarkdownHeadingCollapsed": true
   },
   "source": [
    "### Реализация II"
   ]
  },
  {
   "cell_type": "code",
   "execution_count": null,
   "id": "31757a38-b37b-4faa-b8ac-1204e3912682",
   "metadata": {},
   "outputs": [],
   "source": [
    "inward = scope.inward\n",
    "outward = scope.outward\n",
    "\n",
    "sorted_df = vertices_df.withColumn(\"ord\", F.rand())\n",
    "\n",
    "for _ in range(5):\n",
    "    inward_nbr_df = (\n",
    "        inward.alias(\"s\")\n",
    "            .join(sorted_df.alias(\"r\"), col(\"s.nbr\") == col(\"r.id\"))\n",
    "            .select(col(\"s.id\"), F.expr(\"ord\").alias(\"ord\"), col(\"r.id\"))\n",
    "            .groupBy(col(\"s.id\"))\n",
    "            .agg(F.max(\"ord\").alias(\"in_acc_ord\"))\n",
    "    )\n",
    "    outward_nbr_df = (\n",
    "        outward.alias(\"s\")\n",
    "            .join(sorted_df.alias(\"r\"), col(\"s.nbr\") == col(\"r.id\"))\n",
    "            .select(col(\"s.id\"), F.expr(\"ord\").alias(\"ord\"), col(\"r.id\"))\n",
    "            .groupBy(col(\"s.id\"))\n",
    "            .agg(F.min(\"ord\").alias(\"out_acc_ord\"))\n",
    "    )\n",
    "    sorted_df = (\n",
    "        inward_nbr_df.join(outward_nbr_df, \"id\", \"full\")\n",
    "            .join(sorted_df, \"id\", \"right\")\n",
    "            .select(\"id\", F.coalesce(\"in_acc_ord\", F.lit(0)).alias(\"max_in\"), F.coalesce(\"out_acc_ord\", F.lit(1)).alias(\"min_out\"), \"ord\")\n",
    "            .select(\"id\", F.abs(F.expr(\"min_out - max_in\")).alias(\"diff\"), \"ord\")\n",
    "            .select(\"id\", F.expr(\"diff / 2\").alias(\"ord\"))\n",
    "    )\n",
    "\n",
    "sorted_df.orderBy(\"ord\").show()"
   ]
  },
  {
   "cell_type": "markdown",
   "id": "bbc9d71f-98de-4760-9196-f153f56fc12d",
   "metadata": {
    "jp-MarkdownHeadingCollapsed": true
   },
   "source": [
    "## PowerGraph"
   ]
  },
  {
   "cell_type": "code",
   "execution_count": null,
   "id": "4d82d457-05fb-42db-b8ae-0149153ea211",
   "metadata": {},
   "outputs": [],
   "source": [
    "edges_df, vertices_df = small_graph()"
   ]
  },
  {
   "cell_type": "code",
   "execution_count": null,
   "id": "faa9479c-b732-4d1d-8408-f07f4311c359",
   "metadata": {},
   "outputs": [],
   "source": [
    "vertices_df.printSchema()"
   ]
  },
  {
   "cell_type": "code",
   "execution_count": null,
   "id": "b50b7aa9-6964-412b-a88d-d22e32a82017",
   "metadata": {},
   "outputs": [],
   "source": [
    "edges_df.printSchema()"
   ]
  },
  {
   "cell_type": "code",
   "execution_count": null,
   "id": "1a454c2f-dfd6-4fdb-af80-fc35e5fbd7eb",
   "metadata": {},
   "outputs": [],
   "source": [
    "scope = Scope(edges_df)"
   ]
  },
  {
   "cell_type": "code",
   "execution_count": null,
   "id": "cbec801b-6090-411e-a3ba-cae13042d3a1",
   "metadata": {},
   "outputs": [],
   "source": [
    "sorted_df = vertices_df.withColumn(\"ord\", F.lit(1))\n",
    "\n",
    "inward = scope.inward\n",
    "for _ in range(5):\n",
    "    gather_df = (\n",
    "        inward.where(\"src != dst\").alias(\"s\")\n",
    "            .join(\n",
    "                sorted_df.alias(\"r\"),\n",
    "                col(\"r.id\") == col(\"s.nbr\"))\n",
    "            .select(col(\"s.id\"), col(\"r.ord\"))\n",
    "    )\n",
    "    sum_df = gather_df.groupBy(\"id\").agg(F.max(\"ord\").alias(\"acc_ord\"))\n",
    "    apply_df = (\n",
    "        sum_df\n",
    "            .join(sorted_df, \"id\", \"right\")\n",
    "            .select(col(\"id\"), F.greatest(F.expr(\"acc_ord + 1\"), \"ord\").alias(\"ord\"))\n",
    "    )\n",
    "    scatter_df = apply_df\n",
    "    sorted_df = scatter_df\n",
    "\n",
    "sorted_df.orderBy(\"ord\").show()"
   ]
  },
  {
   "cell_type": "markdown",
   "id": "ab352aac-5afd-4bcd-ac32-d3050bb9162e",
   "metadata": {},
   "source": [
    "# Общий алгоритм"
   ]
  },
  {
   "cell_type": "markdown",
   "id": "1ce0d0c4-b87b-4f9b-b682-29534e0f9b64",
   "metadata": {
    "jp-MarkdownHeadingCollapsed": true
   },
   "source": [
    "## Pregel"
   ]
  },
  {
   "cell_type": "code",
   "execution_count": null,
   "id": "9618f06c-d992-47c6-bf40-e967785a9a67",
   "metadata": {},
   "outputs": [],
   "source": [
    "def pregel_superstep(edges: DataFrame, values: DataFrame, message: Column, combiner: Callable[[Column], Column], computer: Column, **columns: Column) -> DataFrame:\n",
    "    message_box_df = (\n",
    "        edges.where(col(\"src\") != col(\"dst\"))\n",
    "            .join(values, col(\"src\") == col(\"id\"))\n",
    "            .select(col(\"dst\").alias(\"id\"), message.alias(\"message\"))\n",
    "    )\n",
    "    accumulator_df = (\n",
    "        message_box_df\n",
    "            .groupby(col(\"id\"))\n",
    "            .agg(combiner(col(\"message\")).alias(\"message\"))\n",
    "    )\n",
    "    return (\n",
    "        accumulator_df\n",
    "            .join(values, \"id\", \"right\")\n",
    "            .select(\"id\", computer.alias(\"value\"), *columns.values())\n",
    "    )"
   ]
  },
  {
   "cell_type": "code",
   "execution_count": null,
   "id": "6402ada6-ce4d-487c-bd27-e197f282e86f",
   "metadata": {},
   "outputs": [],
   "source": [
    "edges_df, vertices_df = small_graph()"
   ]
  },
  {
   "cell_type": "markdown",
   "id": "9a96b820-5ede-48e7-93e6-8f40910c08bb",
   "metadata": {},
   "source": [
    "### Связные компоненты - Connected Components"
   ]
  },
  {
   "cell_type": "code",
   "execution_count": null,
   "id": "a5770c8b-9514-46be-9bd2-58143467a9a7",
   "metadata": {},
   "outputs": [],
   "source": [
    "cc_df = vertices_df.withColumn(\"value\", col(\"id\"))\n",
    "\n",
    "for _ in range(5):\n",
    "    cc_df = pregel_superstep(\n",
    "        edges=edges_df,\n",
    "        values=cc_df,\n",
    "        message=col(\"value\"),\n",
    "        combiner=F.min,\n",
    "        computer=F.least(col(\"value\"), col(\"message\"))\n",
    "    )\n",
    "\n",
    "cc_df.show()"
   ]
  },
  {
   "cell_type": "markdown",
   "id": "3a859a54-ae43-429f-ac87-334023de532c",
   "metadata": {},
   "source": [
    "### Кратчайщее расстояние - Single Point Shortest Path"
   ]
  },
  {
   "cell_type": "code",
   "execution_count": null,
   "id": "533066b9-278a-459c-9221-99a62783e8ec",
   "metadata": {},
   "outputs": [],
   "source": [
    "pregel_min_dist_df = get_min_dist_init_df(start=1)\n",
    "\n",
    "for _ in range(5):\n",
    "    pregel_min_dist_df = pregel_superstep(\n",
    "        edges=edges_df,\n",
    "        values=pregel_min_dist_df,\n",
    "        message=F.expr(\"value + weight\"),\n",
    "        combiner=F.min,\n",
    "        computer=F.least(\"message\", \"value\")\n",
    "    )\n",
    "\n",
    "pregel_min_dist_df.show()"
   ]
  },
  {
   "cell_type": "markdown",
   "id": "97fa0de0-5441-414c-84c8-a71a008f0d57",
   "metadata": {},
   "source": [
    "### Топологическая сортировка - Topological Sort"
   ]
  },
  {
   "cell_type": "code",
   "execution_count": null,
   "id": "18aa7ab5-bcce-41de-ae5b-c7485afda379",
   "metadata": {},
   "outputs": [],
   "source": [
    "pregel_sort_df = vertices_df.withColumn(\"value\", F.lit(1))\n",
    "\n",
    "for _ in range(5):\n",
    "    pregel_sort_df = pregel_superstep(\n",
    "        edges=edges_df,\n",
    "        values=pregel_sort_df,\n",
    "        message=col(\"value\"),\n",
    "        combiner=F.max,\n",
    "        computer=F.greatest(F.expr(\"message + 1\"), \"value\")\n",
    "    )\n",
    "\n",
    "pregel_sort_df.orderBy(\"value\").show()"
   ]
  },
  {
   "cell_type": "markdown",
   "id": "426daa41-d02c-4fd0-900c-670d61bf4f77",
   "metadata": {},
   "source": [
    "### PageRank"
   ]
  },
  {
   "cell_type": "code",
   "execution_count": null,
   "id": "2d768b0e-bcbd-445f-a472-3c5aaee46800",
   "metadata": {},
   "outputs": [],
   "source": [
    "in_deg = edges_df.groupBy(\"dst\").agg(F.count(F.lit(1)).alias(\"in_deg\")).withColumnRenamed(\"dst\", \"id\")\n",
    "out_deg = edges_df.groupBy(\"src\").agg(F.count(F.lit(1)).alias(\"out_deg\")).withColumnRenamed(\"src\", \"id\")\n",
    "deg_vert_df = vertices_df.join(in_deg, \"id\", \"left\").join(out_deg, \"id\", \"left\").select(\"id\", F.coalesce(\"in_deg\", F.lit(1)).alias(\"in_deg\"), F.coalesce(\"out_deg\", F.lit(1)).alias(\"out_deg\"))"
   ]
  },
  {
   "cell_type": "code",
   "execution_count": null,
   "id": "0235c078-2653-448c-8c05-6908bf81394d",
   "metadata": {},
   "outputs": [],
   "source": [
    "page_rank_result_df = deg_vert_df.withColumn(\"value\", F.lit(1))\n",
    "page_rank_result_df.show()"
   ]
  },
  {
   "cell_type": "code",
   "execution_count": null,
   "id": "39367666-fc2d-46a1-9ce7-bfca0cb0c96c",
   "metadata": {},
   "outputs": [],
   "source": [
    "for i in range(10):\n",
    "    page_rank_result_df = pregel_superstep(\n",
    "        edges=edges_df,\n",
    "        values=page_rank_result_df,\n",
    "        message=col(\"value\"),\n",
    "        combiner=F.sum,\n",
    "        computer=F.expr(\"(0.15 + 0.85 * nvl(message, value)) / out_deg\"),\n",
    "        out_deg=col(\"out_deg\")\n",
    "    )\n",
    "    if i % 5 == 0:\n",
    "        page_rank_result_df = page_rank_result_df.checkpoint()\n",
    "\n",
    "page_rank_result_df.show()"
   ]
  },
  {
   "cell_type": "markdown",
   "id": "cfc7d06b-dcd5-42de-b990-d808c20aadfe",
   "metadata": {},
   "source": [
    "## GraphLab"
   ]
  },
  {
   "cell_type": "code",
   "execution_count": null,
   "id": "b23b3c7c-0ed9-41c9-9269-9af03828d4e6",
   "metadata": {},
   "outputs": [],
   "source": [
    "def graphlab_step(scope: DataFrame, values: DataFrame, nbr_combiner: Column, result: Column, **columns: Column):\n",
    "    values_nbr_df = (\n",
    "        scope.where(\"id != nbr\").alias(\"s\")\n",
    "            .join(values.alias(\"r\"), col(\"s.nbr\") == col(\"r.id\"))\n",
    "            .groupBy(col(\"s.id\"))\n",
    "            .agg(nbr_combiner)\n",
    "    )\n",
    "    values_df = (\n",
    "        values_nbr_df\n",
    "            .join(values, \"id\", \"right\")\n",
    "            .select(\"id\", result, *columns.values())\n",
    "    )\n",
    "    return values_df"
   ]
  },
  {
   "cell_type": "code",
   "execution_count": null,
   "id": "9cf09c5f-11f6-4d64-b1d1-56b66645f32c",
   "metadata": {},
   "outputs": [],
   "source": [
    "edges_df, vertices_df = small_graph()\n",
    "nbrs = Scope(edges_df)"
   ]
  },
  {
   "cell_type": "markdown",
   "id": "954056f7-6aa0-4836-8d75-018b6c69c8a9",
   "metadata": {
    "jp-MarkdownHeadingCollapsed": true
   },
   "source": [
    "### Connected Components"
   ]
  },
  {
   "cell_type": "code",
   "execution_count": null,
   "id": "80563686-d34b-4cb9-8ea7-8691778eef5f",
   "metadata": {},
   "outputs": [],
   "source": [
    "cc_df = vertices_df.withColumn(\"cc\", col(\"id\"))\n",
    "\n",
    "for _ in range(5):\n",
    "    cc_df = graphlab_step(\n",
    "        scope=nbrs(Scope.Direction.INOUT),\n",
    "        values=cc_df,\n",
    "        nbr_combiner=F.min(\"cc\").alias(\"acc_cc\"),\n",
    "        result=F.least(col(\"cc\"), col(\"acc_cc\")).alias(\"cc\")\n",
    "    )\n",
    "\n",
    "cc_df.show()"
   ]
  },
  {
   "cell_type": "markdown",
   "id": "fe8c9bb9-be28-4bbe-bf9a-dcd38c71db34",
   "metadata": {},
   "source": [
    "### Single Source Shortest Path"
   ]
  },
  {
   "cell_type": "code",
   "execution_count": null,
   "id": "cb37c1b9-7451-4721-a799-1efcce5cbdad",
   "metadata": {},
   "outputs": [],
   "source": [
    "min_dist_df = get_min_dist_init_df(start=1)\n",
    "\n",
    "for _ in range(5):\n",
    "    min_dist_df = graphlab_step(\n",
    "        scope=nbrs(Scope.Direction.IN),\n",
    "        values=min_dist_df,\n",
    "        nbr_combiner=F.min(F.expr(\"value + weight\")).alias(\"nbr_min_dist\"),\n",
    "        result=F.least(col(\"value\"), col(\"nbr_min_dist\")).alias(\"value\")\n",
    "    )\n",
    "\n",
    "min_dist_df.show()"
   ]
  },
  {
   "cell_type": "markdown",
   "id": "bfe1ac7b-0c3f-4171-8932-f1562a14f04f",
   "metadata": {},
   "source": [
    "### Топологическая сортировка - Topological Sort"
   ]
  },
  {
   "cell_type": "code",
   "execution_count": null,
   "id": "c8708d7f-e920-4c15-8012-7b6e38fe0daa",
   "metadata": {},
   "outputs": [],
   "source": [
    "sorted_df = vertices_df.withColumn(\"ord\", F.lit(1))\n",
    "for _ in range(5):\n",
    "    sorted_df = graphlab_step(\n",
    "        scope=nbrs(Scope.Direction.IN),\n",
    "        values=sorted_df,\n",
    "        nbr_combiner=F.max(\"ord\").alias(\"acc_ord\"),\n",
    "        result=F.greatest(col(\"ord\"), F.expr(\"acc_ord + 1\")).alias(\"ord\")\n",
    "    )\n",
    "\n",
    "sorted_df.orderBy(\"ord\").show()"
   ]
  },
  {
   "cell_type": "markdown",
   "id": "d5b7166b-6e2c-4480-8d78-5a99026dbe5b",
   "metadata": {
    "jp-MarkdownHeadingCollapsed": true
   },
   "source": [
    "### Page Rank"
   ]
  },
  {
   "cell_type": "code",
   "execution_count": null,
   "id": "64dd66dd-baeb-4c78-8561-ba89bc50c5ea",
   "metadata": {},
   "outputs": [],
   "source": [
    "in_deg = edges_df.groupBy(\"dst\").agg(F.count(F.lit(1)).alias(\"in_deg\")).withColumnRenamed(\"dst\", \"id\")\n",
    "out_deg = edges_df.groupBy(\"src\").agg(F.count(F.lit(1)).alias(\"out_deg\")).withColumnRenamed(\"src\", \"id\")\n",
    "deg_vert_df = vertices_df.join(in_deg, \"id\", \"left\").join(out_deg, \"id\", \"left\").select(\"id\", F.expr(\"nvl(in_deg, 1)\").alias(\"in_deg\"), F.expr(\"nvl(out_deg, 1)\").alias(\"out_deg\"))"
   ]
  },
  {
   "cell_type": "code",
   "execution_count": null,
   "id": "2f379006-21fe-4826-8fb4-1e639d98dad7",
   "metadata": {},
   "outputs": [],
   "source": [
    "page_rank_result_df = deg_vert_df.withColumn(\"value\", F.lit(1))\n",
    "\n",
    "for i in range(10):\n",
    "    page_rank_result_df = graphlab_step(\n",
    "        scope=nbrs(Scope.Direction.IN),\n",
    "        values=page_rank_result_df,\n",
    "        nbr_combiner=F.sum(\"value\").alias(\"nbr_value\"),\n",
    "        result=F.expr(\"(0.15 + 0.85 * nvl(nbr_value, value)) / out_deg\").alias(\"value\"),\n",
    "        out_deg=col(\"out_deg\")\n",
    "    )    \n",
    "    if i % 5 == 0:\n",
    "        page_rank_result_df = page_rank_result_df.checkpoint()\n",
    "\n",
    "page_rank_result_df.show()"
   ]
  },
  {
   "cell_type": "markdown",
   "id": "f225c825-0d5f-4721-adcf-fc5c8dfb6b7e",
   "metadata": {},
   "source": [
    "## PowerGraph"
   ]
  },
  {
   "cell_type": "code",
   "execution_count": null,
   "id": "84828ea4-b0db-480e-a6bc-2b66f8e8d763",
   "metadata": {},
   "outputs": [],
   "source": [
    "def powergraph_superstep(scope: DataFrame, values: DataFrame, gather: Column, combiner: Column, apply: Column, **columns: Column):\n",
    "    gather_df = (\n",
    "        scope.where(\"id != nbr\").alias(\"s\")\n",
    "            .join(\n",
    "                values.alias(\"r\"),\n",
    "                col(\"r.id\") == col(\"s.nbr\"))\n",
    "            .select(col(\"s.id\"), gather)\n",
    "    )\n",
    "    sum_df = gather_df.groupBy(\"id\").agg(combiner)\n",
    "    apply_df = (\n",
    "        sum_df\n",
    "            .join(values, \"id\", \"right\")\n",
    "            .select(col(\"id\"), apply, *columns.values())\n",
    "    )\n",
    "    scatter_df = apply_df\n",
    "    return scatter_df"
   ]
  },
  {
   "cell_type": "code",
   "execution_count": null,
   "id": "0cbecbbd-5d8d-43e7-b45e-fcc13d608056",
   "metadata": {},
   "outputs": [],
   "source": [
    "edges_df, vertices_df = small_graph()\n",
    "nbrs = Scope(edges_df)"
   ]
  },
  {
   "cell_type": "markdown",
   "id": "a7dfecf2-c950-49e4-a496-49f355b99f7a",
   "metadata": {},
   "source": [
    "### Connected Components"
   ]
  },
  {
   "cell_type": "code",
   "execution_count": null,
   "id": "18dd2a67-7cbc-409a-a72a-15870fcff3ef",
   "metadata": {},
   "outputs": [],
   "source": [
    "cc_df = vertices_df.withColumn(\"cc\", col(\"id\"))\n",
    "\n",
    "for _ in range(5):\n",
    "    cc_df = powergraph_superstep(\n",
    "        scope=nbrs(Scope.Direction.INOUT),\n",
    "        values=cc_df,\n",
    "        gather=col(\"cc\"),\n",
    "        combiner=F.min(\"cc\").alias(\"acc_cc\"),\n",
    "        apply=F.least(\"cc\", \"acc_cc\").alias(\"cc\")\n",
    "    )\n",
    "\n",
    "cc_df.show()"
   ]
  },
  {
   "cell_type": "markdown",
   "id": "53715c78-0d3b-4e94-8ba0-b85e566f5626",
   "metadata": {},
   "source": [
    "### Single Source Shortest Path"
   ]
  },
  {
   "cell_type": "code",
   "execution_count": null,
   "id": "dc9dc90f-079c-40c6-947d-362a5416c86d",
   "metadata": {},
   "outputs": [],
   "source": [
    "min_dist_df = get_min_dist_init_df(start=1)\n",
    "\n",
    "for _ in range(5):\n",
    "    min_dist_df = powergraph_superstep(\n",
    "        scope=nbrs(Scope.Direction.IN),\n",
    "        values=min_dist_df,\n",
    "        gather=F.expr(\"value + weight\").alias(\"dist\"),\n",
    "        combiner=F.min(\"dist\").alias(\"acc_dist\"),\n",
    "        apply=F.least(\"acc_dist\", \"value\").alias(\"value\")\n",
    "    )\n",
    "\n",
    "min_dist_df.show()"
   ]
  },
  {
   "cell_type": "markdown",
   "id": "0502abf8-a991-4ac0-9501-1b6b27e0f65f",
   "metadata": {},
   "source": [
    "### Topological Sort"
   ]
  },
  {
   "cell_type": "code",
   "execution_count": null,
   "id": "63f51bd4-5e9a-4623-88cf-d523301b01e4",
   "metadata": {},
   "outputs": [],
   "source": [
    "sorted_df = vertices_df.withColumn(\"ord\", F.lit(1))\n",
    "\n",
    "for _ in range(5):\n",
    "    sorted_df = powergraph_superstep(\n",
    "        scope=nbrs(Scope.Direction.IN),\n",
    "        values=sorted_df,\n",
    "        gather=col(\"ord\"),\n",
    "        combiner=F.max(\"ord\").alias(\"acc_ord\"),\n",
    "        apply=F.greatest(F.expr(\"acc_ord + 1\"), \"ord\").alias(\"ord\")\n",
    "    )\n",
    "\n",
    "sorted_df.show()"
   ]
  },
  {
   "cell_type": "markdown",
   "id": "361cb2b0-7a9f-4b76-9217-b23631f32323",
   "metadata": {},
   "source": [
    "### Page Rank"
   ]
  },
  {
   "cell_type": "code",
   "execution_count": null,
   "id": "72e8f731-219d-4796-be44-0d78e880ad46",
   "metadata": {},
   "outputs": [],
   "source": [
    "in_deg = edges_df.groupBy(\"dst\").agg(F.count(F.lit(1)).alias(\"in_deg\")).withColumnRenamed(\"dst\", \"id\")\n",
    "out_deg = edges_df.groupBy(\"src\").agg(F.count(F.lit(1)).alias(\"out_deg\")).withColumnRenamed(\"src\", \"id\")\n",
    "deg_vert_df = vertices_df.join(in_deg, \"id\", \"left\").join(out_deg, \"id\", \"left\").select(\"id\", F.expr(\"nvl(in_deg, 1)\").alias(\"in_deg\"), F.expr(\"nvl(out_deg, 1)\").alias(\"out_deg\"))"
   ]
  },
  {
   "cell_type": "code",
   "execution_count": null,
   "id": "6b73f257-a424-419a-9028-ed217bc0f37b",
   "metadata": {},
   "outputs": [],
   "source": [
    "page_rank_result_df = deg_vert_df.withColumn(\"value\", F.lit(1))\n",
    "\n",
    "for i in range(10):\n",
    "    page_rank_result_df = powergraph_superstep(\n",
    "        scope=nbrs(Scope.Direction.IN),\n",
    "        values=page_rank_result_df,\n",
    "        gather=col(\"value\"),\n",
    "        combiner=F.sum(\"value\").alias(\"in_value\"),\n",
    "        apply=F.expr(\"(0.15 + 0.85 * nvl(in_value, value)) / out_deg\").alias(\"value\"),\n",
    "        out_deg=col(\"out_deg\")\n",
    "    )    \n",
    "    if i % 5 == 0:\n",
    "        page_rank_result_df = page_rank_result_df.checkpoint()\n",
    "\n",
    "page_rank_result_df.show()"
   ]
  }
 ],
 "metadata": {
  "kernelspec": {
   "display_name": "Python 3 (ipykernel)",
   "language": "python",
   "name": "python3"
  },
  "language_info": {
   "codemirror_mode": {
    "name": "ipython",
    "version": 3
   },
   "file_extension": ".py",
   "mimetype": "text/x-python",
   "name": "python",
   "nbconvert_exporter": "python",
   "pygments_lexer": "ipython3",
   "version": "3.11.4"
  }
 },
 "nbformat": 4,
 "nbformat_minor": 5
}
